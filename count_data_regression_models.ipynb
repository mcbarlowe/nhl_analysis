{
 "cells": [
  {
   "cell_type": "markdown",
   "metadata": {},
   "source": [
    "# Count Data Regression Models"
   ]
  },
  {
   "cell_type": "markdown",
   "metadata": {},
   "source": [
    "## Types of Count Data Regressions\n",
    "\n",
    "1. Poisson Regression\n",
    "2. Negative Binomial Regression\n",
    "3. Hurdle Models\n",
    "4. Zero-Inflated Count Models\n",
    "    * Zero-inflated Poisson\n",
    "    * Zero-inflated Negative Binomial\n",
    "5. Zero-Truncated Count Models\n",
    "    * Zero-truncated Poisson\n",
    "    * Zero-truncated Negative Binomial\n",
    "6. Random-effects Count Models"
   ]
  },
  {
   "cell_type": "code",
   "execution_count": 1,
   "metadata": {},
   "outputs": [],
   "source": [
    "import os\n",
    "import math\n",
    "import itertools\n",
    "import time\n",
    "\n",
    "import pandas as pd\n",
    "import numpy as np\n",
    "import matplotlib.pyplot as plt\n",
    "from sklearn.linear_model import PoissonRegressor\n",
    "from sklearn.ensemble import BaggingRegressor\n",
    "from sklearn.metrics import mean_squared_error, r2_score, mean_absolute_error\n",
    "from sklearn.model_selection import KFold, train_test_split\n",
    "from sklearn.feature_selection import SelectKBest, f_classif\n",
    "import seaborn as sns\n",
    "\n",
    "from helper_functions import cv_model, oos_stats\n",
    "\n",
    "pd.set_option('display.max_columns', None)\n",
    "pd.set_option('display.max_rows', None)\n",
    "\n",
    "next_df = pd.read_csv('preprocessed_data')"
   ]
  },
  {
   "cell_type": "markdown",
   "metadata": {},
   "source": [
    "# Poisson Regression\n",
    "\n",
    "* Two problems when applying a linear regression to count data. 1. Many distributions of count data is positively skewed with the majority of observations being 0. 2. The linear regression could produce negative values which would be impossible (Martin). Need to check if old models actually did this\n",
    "* Using a Poisson Regression has several benefits \"a skew, discrete distribution, and the restriction of predicted values to non-negative numbers.\" Poisson has two main differences from linear regression: it assumes the errors follow a poisson distribution. \"Second, rather than modeling Y as a linear function of the regression coefficients, it models the natural log of the response variable, ln(Y), as a linear function of the coefficients (Martin). So instead of y = mx + b our regression would have ln(y) = mx + b\n",
    "* Poisson model assumes mean is equal to the variance of the errors but often the variance of the errors is larger (Martin)."
   ]
  },
  {
   "cell_type": "markdown",
   "metadata": {},
   "source": [
    "# Poisson Regression Assumptions\n",
    "\n",
    "1. Poisson Response The response variable is a count per unit of time or space, described by a Poisson distribution.\n",
    "2. Independence The observations must be independent of one another.\n",
    "3. Mean=Variance By definition, the mean of a Poisson random variable must be equal to its variance.\n",
    "4. Linearity The log of the mean rate, log(λ), must be a linear function of x. (Bostock)\n",
    "\n",
    "We will look at these assumptions one by one to see if a poisson regression might be a better fit for our goal prediction model than our OLS and regularized linear regressions from the last article. If any of the assumptions fail we'll move on to the next model"
   ]
  },
  {
   "cell_type": "markdown",
   "metadata": {},
   "source": [
    "# Poisson Response"
   ]
  },
  {
   "cell_type": "code",
   "execution_count": 32,
   "metadata": {},
   "outputs": [
    {
     "data": {
      "image/png": "[encoded data removed]",
      "text/plain": [
       "<Figure size 432x288 with 1 Axes>"
      ]
     },
     "metadata": {
      "needs_background": "light"
     },
     "output_type": "display_data"
    }
   ],
   "source": [
    "plt.hist(next_df['g'], bins=35)\n",
    "plt.xlabel(\"Goals\")\n",
    "plt.ylabel(\"Count\")\n",
    "plt.title(\"Distribution of Player Goals\")\n",
    "plt.show()"
   ]
  },
  {
   "cell_type": "markdown",
   "metadata": {},
   "source": [
    "# Mean/Variance Equality "
   ]
  },
  {
   "cell_type": "code",
   "execution_count": 22,
   "metadata": {},
   "outputs": [
    {
     "name": "stdout",
     "output_type": "stream",
     "text": [
      "Goals Mean: 5.275050122036262\n",
      "Goals Variance: 33.751469966443096\n"
     ]
    }
   ],
   "source": [
    "print(f\"Goals Mean: {next_df['g'].mean()}\")\n",
    "print(f\"Goals Variance: {next_df['g'].var()}\")"
   ]
  },
  {
   "cell_type": "markdown",
   "metadata": {},
   "source": [
    "# Training the Poisson Regression"
   ]
  },
  {
   "cell_type": "code",
   "execution_count": 5,
   "metadata": {},
   "outputs": [],
   "source": [
    "feature_columns = [\n",
    "                   'g', 'a1', 'a2', 'toi', 'gp', 'isf', 'iff', 'g_pp', 'a1_pp', 'a2_pp',\n",
    "                   'toi_pp', 'isf_pp', 'iff_pp', 'pos_D',\n",
    "                   'pos_D/F', 'pos_F', 'toi_gp', 'sh_percent', 'sh_percent_pp', 'avg_goals_season', \n",
    "                   'avg_sh_perc', 'sh_perc_diff', 'g_avg_past_2_seasons'] \n",
    "target_column = ['total_goals_next']\n",
    "selected_features = ['g', 'g_pp', 'isf', 'toi_pp', 'isf_pp', 'avg_goals_season', 'g_avg_past_2_seasons',\n",
    "                     'pos_F', 'gp', 'a1']\n",
    "x_train, x_test, y_train, y_test = train_test_split(next_df[feature_columns], \n",
    "                                                    next_df[['total_goals_next']], \n",
    "                                                    test_size=0.2, random_state=8675309)"
   ]
  },
  {
   "cell_type": "code",
   "execution_count": 27,
   "metadata": {},
   "outputs": [
    {
     "data": {
      "text/plain": [
       "PoissonRegressor(max_iter=5000)"
      ]
     },
     "execution_count": 27,
     "metadata": {},
     "output_type": "execute_result"
    }
   ],
   "source": [
    "#Have to scale like Ridge Regression\n",
    "#TODO build function or improve my old one to work with Poisson Regressions\n",
    "from sklearn.preprocessing import StandardScaler\n",
    "scaler = StandardScaler()\n",
    "scaler.fit(x_train[selected_features])\n",
    "scaled_features = scaler.transform(x_train[selected_features])\n",
    "poisson_reg = PoissonRegressor(max_iter=5000)\n",
    "poisson_reg.fit(scaled_features, y_train.values[:,0])"
   ]
  },
  {
   "cell_type": "code",
   "execution_count": 28,
   "metadata": {},
   "outputs": [
    {
     "data": {
      "text/plain": [
       "0.481622798340403"
      ]
     },
     "execution_count": 28,
     "metadata": {},
     "output_type": "execute_result"
    }
   ],
   "source": [
    "poisson_reg.score(scaled_features, y_train.values[:,0])"
   ]
  },
  {
   "cell_type": "markdown",
   "metadata": {},
   "source": [
    "# Sources\n",
    "\n",
    "Regression Models for Count Data by Karen Grace-Martin\n",
    "https://www.theanalysisfactor.com/regression-models-for-count-data/\n",
    "\n",
    "Broadening Your Statistical Horizons: Generalized Linear Models and Multilevel Models\n",
    "Julie Legler and Paul Roback\n",
    "https://bookdown.org/roback/bookdown-bysh/ch-poissonreg.html\n",
    "\n",
    "Regression Models with Count Data by UCLA Statistical Consulting\n",
    "https://stats.idre.ucla.edu/stata/seminars/regression-models-with-count-data/\n",
    "\n",
    "An Illustrated Guid to the Poisson Regression Model by Sachin Date\n",
    "https://towardsdatascience.com/an-illustrated-guide-to-the-poisson-regression-model-50cccba15958\n",
    "\n",
    "Negative Binomial Regression: A Step by Step Guide by Sachin Date\n",
    "https://towardsdatascience.com/negative-binomial-regression-f99031bb25b4"
   ]
  }
 ],
 "metadata": {
  "kernelspec": {
   "display_name": "Python 3",
   "language": "python",
   "name": "python3"
  },
  "language_info": {
   "codemirror_mode": {
    "name": "ipython",
    "version": 3
   },
   "file_extension": ".py",
   "mimetype": "text/x-python",
   "name": "python",
   "nbconvert_exporter": "python",
   "pygments_lexer": "ipython3",
   "version": "3.8.10"
  }
 },
 "nbformat": 4,
 "nbformat_minor": 4
}
