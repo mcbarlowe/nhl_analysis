{
 "cells": [
  {
   "cell_type": "code",
   "execution_count": 1,
   "metadata": {},
   "outputs": [],
   "source": [
    "import pandas as pd\n",
    "import numpy as np\n",
    "import matplotlib.pyplot as plt\n",
    "\n",
    "pd.set_option('display.max_columns', None)\n",
    "pd.set_option('display.max_rows', None)"
   ]
  },
  {
   "cell_type": "code",
   "execution_count": 14,
   "metadata": {},
   "outputs": [
    {
     "data": {
      "text/plain": [
       "\"\\ntrain_shift_data = shift_data[shift_data['season'] != 20192020]\\ntest_shift_data = shift_data[shift_data['season'] == 20192020]\\n\\n#need to actually turn this into a shift per game dataframe\\ntrain_shift_per_game_df = shift_per_game_df[shift_per_game_df['season'] != 20192020]\\ntest_shift_per_game_df = shift_per_game_df[shift_per_game_df['season'] == 20192020]\\n\""
      ]
     },
     "execution_count": 14,
     "metadata": {},
     "output_type": "execute_result"
    }
   ],
   "source": [
    "#preparing gp data\n",
    "all_sits_goal_data = pd.read_csv('csv_files/all_sits_player_goal_data.csv')\n",
    "gp_df = all_sits_goal_data[['player', 'api_id', 'season_age', 'position', \n",
    "                            'position_type', 'team', 'season', 'session', \n",
    "                            'gp', 'toi']]\n",
    "\n",
    "gp_df = gp_df.groupby(['player', 'api_id', 'season_age', 'position', \n",
    "                       'position_type', 'season', 'session', 'team'])[['gp', 'toi']].sum().reset_index()\n",
    "'''\n",
    "#prepating shift/shift length data\n",
    "shift_data = pd.read_csv('large_files/player_shifts.csv')\n",
    "player_pos = pd.read_csv('csv_files/player_positions.csv')\n",
    "shift_data = shift_data.merge(player_pos, on='PLAYER_ID')\n",
    "shift_data = shift_data[shift_data['POS'] != 'G']\n",
    "#Still some really weird shifts in the data set filter out anything great than 250 seconds \n",
    "#which is over a 3 minute shift\n",
    "shift_data = shift_data[shift_data['DURATION'] < 250]\n",
    "shift_per_game_df = shift_data.groupby(['GAME_ID', 'PLAYER_ID', 'POS'])\\\n",
    "                    ['SHIFT_NUMBER'].max().reset_index()\n",
    "\n",
    "shift_per_game_df = shift_per_game_df.rename(columns={'SHIFT_NUMBER':'shifts_in_game'})\n",
    "\n",
    "#making all the column names lower case\n",
    "shift_data.columns = list(map(str.lower, shift_data.columns))\n",
    "player_pos.columns = list(map(str.lower, player_pos.columns))\n",
    "shift_per_game_df.columns = list(map(str.lower, shift_per_game_df.columns))\n",
    "gp_df.columns = list(map(str.lower, gp_df.columns))\n",
    "all_sits_goal_data.columns = list(map(str.lower, all_sits_goal_data.columns))\n",
    "\n",
    "#create a season column for shift data from game_id\n",
    "shift_data['season'] = shift_data['game_id'].astype(str).str.slice(stop=4).astype(int) + 1\n",
    "shift_per_game_df['season'] = shift_per_game_df['game_id'].astype(str).str.\\\n",
    "                              slice(stop=4).astype(int) + 1\n",
    "shift_data['season'] = (shift_data['season'] - 1).astype(int).astype(str) + \\\n",
    "                          shift_data['season'].astype(int).astype(str)\n",
    "shift_per_game_df['season'] = (shift_per_game_df['season'] - 1).astype(str) + \\\n",
    "                              shift_per_game_df['season'].astype(str)\n",
    "'''\n",
    "#get max possible games a player can play in a given season. It varies based on lockouts and\n",
    "#the covid seasons\n",
    "covid_season = gp_df[gp_df.season == 20192020].groupby(['team', 'season'])['gp'].max().reset_index()\n",
    "gp_df = gp_df.merge(covid_season, how='left', on=['team', 'season'], suffixes=(None, '_y'))\n",
    "gp_df = gp_df.rename(columns = {'gp_y': 'possible_gp'})\n",
    "gp_df['possible_gp'] = np.where(gp_df['possible_gp'].isna(), \n",
    "                                np.where(gp_df['season'] == 20122013, 48, 82), \n",
    "                                gp_df['possible_gp'])\n",
    "\n",
    "#create test/train sets\n",
    "train_gp_df = gp_df[gp_df['season'] != 20192020]\n",
    "test_gp_df = gp_df[gp_df['season'] == 20192020]\n",
    "'''\n",
    "train_shift_data = shift_data[shift_data['season'] != 20192020]\n",
    "test_shift_data = shift_data[shift_data['season'] == 20192020]\n",
    "\n",
    "#need to actually turn this into a shift per game dataframe\n",
    "train_shift_per_game_df = shift_per_game_df[shift_per_game_df['season'] != 20192020]\n",
    "test_shift_per_game_df = shift_per_game_df[shift_per_game_df['season'] == 20192020]\n",
    "'''\n",
    "\n"
   ]
  },
  {
   "cell_type": "markdown",
   "metadata": {},
   "source": [
    "# Maybe don't scrap it yet maybe good to predict TOI still and feed that to the linear regression\n",
    "# Scrap the Distribution for GP and just do the linear regression\n",
    "# of TOI, GP, Season_age to next season GP\n",
    "```\n",
    "from sklearn.linear_model import LinearRegression\n",
    "#x_train.head()\n",
    "x_train['season_age'] = x_train['next_season_age'] - 1\n",
    "reg = LinearRegression().fit(x_train[['toi', 'gp', 'season_age']], x_train[['gp_next']])\n",
    "```\n",
    "\n",
    "Use bagging regressor to bootstrap a CI of gp and then feed that into a model that uses current season TOI/GP to predict goals assists points. And then use that to then predict stuff. Maybe should look into fitting a bayesian regression.\n",
    "\n",
    "previous toi, previous_points, season_age -> next gp -> next toi -> next goals\n",
    "\n",
    "building a model to predict games played. then feed that into the regression that predicts TOI and then feed TOI into regression that predicts goals and assists. For forwards maybe put in iCF, iFF but they may correlate with TOI anyways"
   ]
  },
  {
   "cell_type": "markdown",
   "metadata": {},
   "source": [
    "# Games Played Distributions\n",
    "\n",
    "We're going to use the Binomial Distribution to model how many games a player plays in a season. The binomial takes \n",
    "two parameters $ n $ and $ p $. $ n $ is the number of trials we are looking for, in this case will be 82 since that's the number of games in the NHL regular season. While $ p $ is the probability of a player playing in each game. \n",
    "\n",
    "I picked the Beta Distribution as the prior for the distribution of $ p $ for the main reason that it is the conjugate prior of the Binomial Distribution. This makes the math much simpler and allows us to easily update our prior into a posterior distribution by simply adding the number of trials and sucesses to the parameters of our Beta prior.\n",
    "\n",
    "Here is the formula for the Beta posterior:\n",
    "\n",
    "$ \\alpha + x $\n",
    "\n",
    "$ \\beta + N - x$\n",
    "\n",
    "$ x $ is the number of successes and $ N $ is the number of trials. For the initial prior parameters we'll choose an $ \\alpha $ and $ \\beta $ that produces an expected value of the probability of playing 60 games a season which I think is reasonable for an average roster player on an NHL team. This means I will set $ \\alpha = 60 $ and $ \\beta = 22 $\n",
    "\n"
   ]
  },
  {
   "cell_type": "code",
   "execution_count": 15,
   "metadata": {},
   "outputs": [
    {
     "data": {
      "image/png": "[encoded data removed]",
      "text/plain": [
       "<Figure size 432x288 with 1 Axes>"
      ]
     },
     "metadata": {
      "needs_background": "light"
     },
     "output_type": "display_data"
    }
   ],
   "source": [
    "from scipy.stats import beta\n",
    "# Showing the distribution of our initial prior beta distribution\n",
    "r = beta.rvs(60, 22, size=1000)\n",
    "plt.hist(r, density=True, histtype='stepfilled', bins=30)\n",
    "plt.xlabel(\"Probability Player Plays in Game\")\n",
    "plt.show()"
   ]
  },
  {
   "cell_type": "code",
   "execution_count": 16,
   "metadata": {},
   "outputs": [
    {
     "data": {
      "text/html": [
       "<div>\n",
       "<style scoped>\n",
       "    .dataframe tbody tr th:only-of-type {\n",
       "        vertical-align: middle;\n",
       "    }\n",
       "\n",
       "    .dataframe tbody tr th {\n",
       "        vertical-align: top;\n",
       "    }\n",
       "\n",
       "    .dataframe thead th {\n",
       "        text-align: right;\n",
       "    }\n",
       "</style>\n",
       "<table border=\"1\" class=\"dataframe\">\n",
       "  <thead>\n",
       "    <tr style=\"text-align: right;\">\n",
       "      <th></th>\n",
       "      <th>player</th>\n",
       "      <th>api_id</th>\n",
       "      <th>position_type</th>\n",
       "      <th>gp</th>\n",
       "      <th>possible_gp</th>\n",
       "      <th>possible_gp_not_played</th>\n",
       "      <th>posterior_alpha</th>\n",
       "      <th>posterior_beta</th>\n",
       "    </tr>\n",
       "  </thead>\n",
       "  <tbody>\n",
       "    <tr>\n",
       "      <th>0</th>\n",
       "      <td>Sidney Crosby</td>\n",
       "      <td>8471675</td>\n",
       "      <td>F</td>\n",
       "      <td>782.0</td>\n",
       "      <td>950.0</td>\n",
       "      <td>168.0</td>\n",
       "      <td>842.0</td>\n",
       "      <td>190.0</td>\n",
       "    </tr>\n",
       "  </tbody>\n",
       "</table>\n",
       "</div>"
      ],
      "text/plain": [
       "          player   api_id position_type     gp  possible_gp  \\\n",
       "0  Sidney Crosby  8471675             F  782.0        950.0   \n",
       "\n",
       "   possible_gp_not_played  posterior_alpha  posterior_beta  \n",
       "0                   168.0            842.0           190.0  "
      ]
     },
     "execution_count": 16,
     "metadata": {},
     "output_type": "execute_result"
    }
   ],
   "source": [
    "crosby_df = train_gp_df[train_gp_df.player == 'Sidney Crosby']\n",
    "crosby_df = crosby_df.groupby(['player', 'api_id', 'position_type'])[['gp', 'possible_gp']].sum().reset_index()\n",
    "crosby_df['possible_gp_not_played'] = crosby_df['possible_gp'] - crosby_df['gp']\n",
    "crosby_df['posterior_alpha'] = 60 + crosby_df['gp']\n",
    "crosby_df['posterior_beta'] = 22 + crosby_df['possible_gp'] - crosby_df['gp']\n",
    "crosby_df"
   ]
  },
  {
   "cell_type": "code",
   "execution_count": 17,
   "metadata": {},
   "outputs": [
    {
     "data": {
      "image/png": "[encoded data removed]",
      "text/plain": [
       "<Figure size 432x288 with 1 Axes>"
      ]
     },
     "metadata": {
      "needs_background": "light"
     },
     "output_type": "display_data"
    }
   ],
   "source": [
    "# Showing the distribution of our initial prior beta distribution\n",
    "r = beta.rvs(crosby_df['posterior_alpha'].values, crosby_df['posterior_beta'].values, size=1000)\n",
    "plt.hist(r, density=True, histtype='stepfilled', bins=30)\n",
    "plt.xlabel(\"Sidney Crosby Probability GP Posterior Distribution\")\n",
    "plt.show()"
   ]
  },
  {
   "cell_type": "markdown",
   "metadata": {},
   "source": [
    "As we can see from the graph of sampling from the update posterior distribution Sidney Crosby's most likely probability of playing a game is much higher than our prior. The data as updated our prior to reflect the evidence of the amount of games Crosby has played. We can calculate the mean and variance of our posterior distribution like so:\n",
    "\n",
    "$ \\large{\\mu} = \\LARGE{\\frac{\\alpha}{\\alpha + \\beta}} $\n",
    "\n",
    "and for the variance:\n",
    "\n",
    "$ \\large{\\sigma}^2 = \\LARGE{\\frac{\\alpha\\beta}{(\\alpha + \\beta)^2(\\alpha + \\beta + 1)}} $\n",
    "\n",
    "Using these formulas we get that the mean probability that Sidney Crosby plays a game is ~ .81 and the variance is 0.0001. Taking the square root of the variance gives us a standard deviation ~ 0.012.\n",
    "\n",
    "Now that we have our posterior distribution we can predict future values of games played using the Posterior predictive formula. Again since we used a conjugate prior this makes the math much simpler and it just reduces to the Beta Binomial distribution parameterized like this $ BetaBin(n, \\alpha, \\beta) $ where $ n $ is the number of games in a season."
   ]
  },
  {
   "cell_type": "code",
   "execution_count": 18,
   "metadata": {},
   "outputs": [
    {
     "data": {
      "image/png": "[encoded data removed]",
      "text/plain": [
       "<Figure size 432x288 with 1 Axes>"
      ]
     },
     "metadata": {
      "needs_background": "light"
     },
     "output_type": "display_data"
    }
   ],
   "source": [
    "from scipy.stats import betabinom\n",
    "r = betabinom.rvs(69, crosby_df['posterior_alpha'].values, crosby_df['posterior_beta'].values, size=10000)\n",
    "plt.hist(r, density=True, bins=25)\n",
    "plt.xlabel(\"Sidney Crosby GP Distribution for 20192020 season\")\n",
    "plt.show()"
   ]
  },
  {
   "cell_type": "markdown",
   "metadata": {},
   "source": [
    "As we see in the distribution is Expected Value of GP in the 20192020 season was around 56 games. However he played 41 due to a core muscle surgery that kept him out six weeks. Despite his concussion issues from 20132014 on Crosby has been a fairly durable player. Its hard for the model to predict injuries for players who don't miss a lot of time. Possibly this could be adjusted by adding some sort of aging curve to players as they get older they are likely to play less games due to injury however at the extremes you will see some sort of survivorship bias as the players who are still playing at later ages probably are doing so because they've avoided injuries.\n"
   ]
  },
  {
   "cell_type": "markdown",
   "metadata": {},
   "source": [
    "## Testing the Predictions of our GP Model\n",
    "\n",
    "Now we need to see how our model does predicting GP for our test data set or the 20192020 NHL Season"
   ]
  },
  {
   "cell_type": "code",
   "execution_count": 19,
   "metadata": {},
   "outputs": [
    {
     "data": {
      "text/html": [
       "<div>\n",
       "<style scoped>\n",
       "    .dataframe tbody tr th:only-of-type {\n",
       "        vertical-align: middle;\n",
       "    }\n",
       "\n",
       "    .dataframe tbody tr th {\n",
       "        vertical-align: top;\n",
       "    }\n",
       "\n",
       "    .dataframe thead th {\n",
       "        text-align: right;\n",
       "    }\n",
       "</style>\n",
       "<table border=\"1\" class=\"dataframe\">\n",
       "  <thead>\n",
       "    <tr style=\"text-align: right;\">\n",
       "      <th></th>\n",
       "      <th>player</th>\n",
       "      <th>api_id</th>\n",
       "      <th>season_age</th>\n",
       "      <th>season</th>\n",
       "      <th>possible_gp</th>\n",
       "      <th>gp</th>\n",
       "      <th>toi</th>\n",
       "    </tr>\n",
       "  </thead>\n",
       "  <tbody>\n",
       "    <tr>\n",
       "      <th>14</th>\n",
       "      <td>Aaron Johnson</td>\n",
       "      <td>8469534</td>\n",
       "      <td>24.0</td>\n",
       "      <td>20072008</td>\n",
       "      <td>82.0</td>\n",
       "      <td>30.0</td>\n",
       "      <td>415.85</td>\n",
       "    </tr>\n",
       "    <tr>\n",
       "      <th>15</th>\n",
       "      <td>Aaron Johnson</td>\n",
       "      <td>8469534</td>\n",
       "      <td>25.0</td>\n",
       "      <td>20082009</td>\n",
       "      <td>82.0</td>\n",
       "      <td>38.0</td>\n",
       "      <td>537.38</td>\n",
       "    </tr>\n",
       "    <tr>\n",
       "      <th>16</th>\n",
       "      <td>Aaron Johnson</td>\n",
       "      <td>8469534</td>\n",
       "      <td>26.0</td>\n",
       "      <td>20092010</td>\n",
       "      <td>82.0</td>\n",
       "      <td>41.0</td>\n",
       "      <td>641.63</td>\n",
       "    </tr>\n",
       "    <tr>\n",
       "      <th>17</th>\n",
       "      <td>Aaron Johnson</td>\n",
       "      <td>8469534</td>\n",
       "      <td>28.0</td>\n",
       "      <td>20112012</td>\n",
       "      <td>82.0</td>\n",
       "      <td>56.0</td>\n",
       "      <td>924.40</td>\n",
       "    </tr>\n",
       "    <tr>\n",
       "      <th>18</th>\n",
       "      <td>Aaron Johnson</td>\n",
       "      <td>8469534</td>\n",
       "      <td>29.0</td>\n",
       "      <td>20122013</td>\n",
       "      <td>48.0</td>\n",
       "      <td>10.0</td>\n",
       "      <td>148.70</td>\n",
       "    </tr>\n",
       "  </tbody>\n",
       "</table>\n",
       "</div>"
      ],
      "text/plain": [
       "           player   api_id  season_age    season  possible_gp    gp     toi\n",
       "14  Aaron Johnson  8469534        24.0  20072008         82.0  30.0  415.85\n",
       "15  Aaron Johnson  8469534        25.0  20082009         82.0  38.0  537.38\n",
       "16  Aaron Johnson  8469534        26.0  20092010         82.0  41.0  641.63\n",
       "17  Aaron Johnson  8469534        28.0  20112012         82.0  56.0  924.40\n",
       "18  Aaron Johnson  8469534        29.0  20122013         48.0  10.0  148.70"
      ]
     },
     "execution_count": 19,
     "metadata": {},
     "output_type": "execute_result"
    }
   ],
   "source": [
    "train_gp_df = train_gp_df.groupby(['player', 'api_id', 'season_age', 'season', 'possible_gp'])\\\n",
    "              [['gp', 'toi']].sum().reset_index()\n",
    "train_gp_df[train_gp_df.api_id == 8469534].head()"
   ]
  },
  {
   "cell_type": "code",
   "execution_count": 106,
   "metadata": {},
   "outputs": [],
   "source": [
    "from scipy.stats import betabinom\n",
    "players = list(train_gp_df.api_id.unique())\n",
    "test_players = list(test_gp_df.api_id.unique())\n",
    "seasons = list(train_gp_df.season.sort_values().unique())\n",
    "predictions = []\n",
    "\n",
    "for player in players:\n",
    "   \n",
    "    player_df = train_gp_df[train_gp_df.api_id == player]\n",
    "    if player_df.shape[0] == 1 and player not in test_players:\n",
    "        continue\n",
    "    prior_alpha = 64\n",
    "    prior_beta = 18\n",
    "    posterior_alpha = 0\n",
    "    posterior_beta = 0\n",
    "    possible_games = 0\n",
    "    previous_season = 0\n",
    "    for i, season in enumerate(seasons):\n",
    "        if season < player_df.season.min():\n",
    "            continue\n",
    "        if season > player_df.season.max():\n",
    "            break\n",
    "        if season not in player_df.season.values:\n",
    "            continue\n",
    "            \n",
    "        season_df = player_df[player_df.season == season]\n",
    "        \n",
    "        if posterior_alpha == 0:\n",
    "            posterior_alpha = prior_alpha + season_df['gp'].values[0]\n",
    "            posterior_beta = prior_beta + season_df['possible_gp'].values[0] - season_df['gp'].values[0]\n",
    "            previous_season = season_df['season'].values[0]\n",
    "        else:\n",
    "            missed_gp_add = 0\n",
    "            if season_df.season.values[0] - previous_season != 10001:\n",
    "                for i in range(((season_df.season.values[0] - previous_season)//10001)-1) :\n",
    "                    if previous_season + ((i+1) * 10001) == 20122013:\n",
    "                        missed_gp_add += 48\n",
    "                    else:\n",
    "                        missed_gp_add += 82\n",
    "            #print(posterior_alpha, posterior_beta, season_df['possible_gp'].values[0])\n",
    "            if season == 20122013:\n",
    "                predicted_games = betabinom.rvs(48, posterior_alpha, posterior_beta, size=100).mean()\n",
    "            else:\n",
    "                predicted_games = betabinom.rvs(int(season_df['possible_gp'].values[0]), posterior_alpha, posterior_beta, size=100).max()\n",
    "            predictions.append([player, season, predicted_games, season_df['gp'].values[0]])\n",
    "            posterior_alpha += season_df['gp'].values[0]\n",
    "            posterior_beta = posterior_beta + season_df['possible_gp'].values[0] + missed_gp_add - season_df['gp'].values[0]\n",
    "            previous_season = season_df['season'].values[0]\n"
   ]
  },
  {
   "cell_type": "code",
   "execution_count": 107,
   "metadata": {},
   "outputs": [
    {
     "name": "stdout",
     "output_type": "stream",
     "text": [
      "0.2008035857886611\n",
      "17.194998783454988\n"
     ]
    }
   ],
   "source": [
    "predictions_df = pd.DataFrame(predictions, columns=['player', 'season','predicted', 'actual'])\n",
    "\n",
    "from sklearn.metrics import r2_score, mean_absolute_error\n",
    "\n",
    "print(r2_score(predictions_df[['actual']], predictions_df[['predicted']]))\n",
    "print(mean_absolute_error(predictions_df['actual'], predictions_df['predicted']))\n"
   ]
  },
  {
   "cell_type": "code",
   "execution_count": 105,
   "metadata": {},
   "outputs": [
    {
     "data": {
      "image/png": "[encoded data removed]",
      "text/plain": [
       "<Figure size 432x288 with 1 Axes>"
      ]
     },
     "metadata": {
      "needs_background": "light"
     },
     "output_type": "display_data"
    }
   ],
   "source": [
    "#alpha 66 beta 16\n",
    "plt.hist(predictions_df['actual'], bins=25)\n",
    "plt.hist(predictions_df['predicted'], bins=25, alpha=.4)\n",
    "plt.show()"
   ]
  },
  {
   "cell_type": "code",
   "execution_count": 109,
   "metadata": {},
   "outputs": [
    {
     "data": {
      "image/png": "[encoded data removed]",
      "text/plain": [
       "<Figure size 432x288 with 1 Axes>"
      ]
     },
     "metadata": {
      "needs_background": "light"
     },
     "output_type": "display_data"
    }
   ],
   "source": [
    "#alpha 64 beta 18\n",
    "plt.hist(predictions_df['actual'], bins=25)\n",
    "plt.hist(predictions_df['predicted'], bins=25, alpha=.4)\n",
    "plt.show()"
   ]
  },
  {
   "cell_type": "code",
   "execution_count": 46,
   "metadata": {},
   "outputs": [
    {
     "data": {
      "text/html": [
       "<div>\n",
       "<style scoped>\n",
       "    .dataframe tbody tr th:only-of-type {\n",
       "        vertical-align: middle;\n",
       "    }\n",
       "\n",
       "    .dataframe tbody tr th {\n",
       "        vertical-align: top;\n",
       "    }\n",
       "\n",
       "    .dataframe thead th {\n",
       "        text-align: right;\n",
       "    }\n",
       "</style>\n",
       "<table border=\"1\" class=\"dataframe\">\n",
       "  <thead>\n",
       "    <tr style=\"text-align: right;\">\n",
       "      <th></th>\n",
       "      <th>player</th>\n",
       "      <th>api_id</th>\n",
       "      <th>season_age</th>\n",
       "      <th>season</th>\n",
       "      <th>possible_gp</th>\n",
       "      <th>gp</th>\n",
       "      <th>toi</th>\n",
       "    </tr>\n",
       "  </thead>\n",
       "  <tbody>\n",
       "    <tr>\n",
       "      <th>3</th>\n",
       "      <td>Aaron Downey</td>\n",
       "      <td>8465992</td>\n",
       "      <td>33.0</td>\n",
       "      <td>20072008</td>\n",
       "      <td>82.0</td>\n",
       "      <td>56.0</td>\n",
       "      <td>256.93</td>\n",
       "    </tr>\n",
       "    <tr>\n",
       "      <th>4</th>\n",
       "      <td>Aaron Downey</td>\n",
       "      <td>8465992</td>\n",
       "      <td>34.0</td>\n",
       "      <td>20082009</td>\n",
       "      <td>82.0</td>\n",
       "      <td>4.0</td>\n",
       "      <td>20.83</td>\n",
       "    </tr>\n",
       "  </tbody>\n",
       "</table>\n",
       "</div>"
      ],
      "text/plain": [
       "         player   api_id  season_age    season  possible_gp    gp     toi\n",
       "3  Aaron Downey  8465992        33.0  20072008         82.0  56.0  256.93\n",
       "4  Aaron Downey  8465992        34.0  20082009         82.0   4.0   20.83"
      ]
     },
     "execution_count": 46,
     "metadata": {},
     "output_type": "execute_result"
    }
   ],
   "source": [
    "train_gp_df[train_gp_df.api_id == 8465992]"
   ]
  },
  {
   "cell_type": "code",
   "execution_count": 50,
   "metadata": {},
   "outputs": [
    {
     "data": {
      "text/plain": [
       "67.67"
      ]
     },
     "execution_count": 50,
     "metadata": {},
     "output_type": "execute_result"
    }
   ],
   "source": [
    "prior_alpha = 30 + 56\n",
    "prior_beta = 52 + 82 - 56\n",
    "betabinom.rvs(82, posterior_alpha, posterior_beta, size=100).mean()"
   ]
  },
  {
   "cell_type": "code",
   "execution_count": 49,
   "metadata": {},
   "outputs": [
    {
     "data": {
      "text/html": [
       "<div>\n",
       "<style scoped>\n",
       "    .dataframe tbody tr th:only-of-type {\n",
       "        vertical-align: middle;\n",
       "    }\n",
       "\n",
       "    .dataframe tbody tr th {\n",
       "        vertical-align: top;\n",
       "    }\n",
       "\n",
       "    .dataframe thead th {\n",
       "        text-align: right;\n",
       "    }\n",
       "</style>\n",
       "<table border=\"1\" class=\"dataframe\">\n",
       "  <thead>\n",
       "    <tr style=\"text-align: right;\">\n",
       "      <th></th>\n",
       "      <th>toi</th>\n",
       "      <th>g</th>\n",
       "      <th>gp</th>\n",
       "    </tr>\n",
       "  </thead>\n",
       "  <tbody>\n",
       "    <tr>\n",
       "      <th>toi</th>\n",
       "      <td>1.000000</td>\n",
       "      <td>0.649023</td>\n",
       "      <td>0.927694</td>\n",
       "    </tr>\n",
       "    <tr>\n",
       "      <th>g</th>\n",
       "      <td>0.649023</td>\n",
       "      <td>1.000000</td>\n",
       "      <td>0.651033</td>\n",
       "    </tr>\n",
       "    <tr>\n",
       "      <th>gp</th>\n",
       "      <td>0.927694</td>\n",
       "      <td>0.651033</td>\n",
       "      <td>1.000000</td>\n",
       "    </tr>\n",
       "  </tbody>\n",
       "</table>\n",
       "</div>"
      ],
      "text/plain": [
       "          toi         g        gp\n",
       "toi  1.000000  0.649023  0.927694\n",
       "g    0.649023  1.000000  0.651033\n",
       "gp   0.927694  0.651033  1.000000"
      ]
     },
     "execution_count": 49,
     "metadata": {},
     "output_type": "execute_result"
    }
   ],
   "source": [
    "all_sits_goal_data[['toi', 'g', 'gp']].corr()"
   ]
  },
  {
   "cell_type": "markdown",
   "metadata": {},
   "source": [
    "## Shifts in a Game Distribution\n",
    "\n",
    "Now that we have a distribution of possible games for a player lets look at their distribution of shifts per game. I'm going to model this as a Poisson process where we are modeling the number of shits in a given time interval of a game. Again I will use bayesian inference to obtain a posterior and use a posterior predictive distribution to get a distribution of shifts in a game for the player.\n",
    "\n",
    "For my prior im going to use the Gamma distribution which is another conjugate prior with parameters $ \\alpha $ and $ \\beta $ just like the Beta distribution. However in this instance $ \\alpha $ represents the total occurances in $ \\beta $ intervals. Since our interval is just one game we'll set $ \\beta = 1 $ and im going to say that a player plays around 15 shifts a game so i'll set $ \\alpha = 15 $.\n",
    "\n",
    "To update our gamma prior we will use these formulas:\n",
    "\n",
    "Alpha:\n",
    "\n",
    "$ \\large{\\alpha + \\sum_{i=1}^n k_i} $\n",
    "\n",
    "Beta:\n",
    "\n",
    "$ \\large{\\beta + {n}} $\n",
    "\n",
    "So basically we are updating $ \\alpha $ with the sum of our counts (or shifts) while we update $ \\beta $ with the total number of observations. Let us repeat our earlier process for Crosby's games played but this time for shifts per game."
   ]
  },
  {
   "cell_type": "code",
   "execution_count": 104,
   "metadata": {},
   "outputs": [
    {
     "data": {
      "text/html": [
       "<div>\n",
       "<style scoped>\n",
       "    .dataframe tbody tr th:only-of-type {\n",
       "        vertical-align: middle;\n",
       "    }\n",
       "\n",
       "    .dataframe tbody tr th {\n",
       "        vertical-align: top;\n",
       "    }\n",
       "\n",
       "    .dataframe thead th {\n",
       "        text-align: right;\n",
       "    }\n",
       "</style>\n",
       "<table border=\"1\" class=\"dataframe\">\n",
       "  <thead>\n",
       "    <tr style=\"text-align: right;\">\n",
       "      <th></th>\n",
       "      <th>player_id_</th>\n",
       "      <th>shift_number_sum</th>\n",
       "      <th>shift_number_count</th>\n",
       "      <th>posterior_alpha</th>\n",
       "      <th>posterior_beta</th>\n",
       "    </tr>\n",
       "  </thead>\n",
       "  <tbody>\n",
       "    <tr>\n",
       "      <th>0</th>\n",
       "      <td>8471675</td>\n",
       "      <td>21693</td>\n",
       "      <td>874</td>\n",
       "      <td>21713</td>\n",
       "      <td>875</td>\n",
       "    </tr>\n",
       "  </tbody>\n",
       "</table>\n",
       "</div>"
      ],
      "text/plain": [
       "   player_id_  shift_number_sum  shift_number_count  posterior_alpha  \\\n",
       "0     8471675             21693                 874            21713   \n",
       "\n",
       "   posterior_beta  \n",
       "0             875  "
      ]
     },
     "execution_count": 104,
     "metadata": {},
     "output_type": "execute_result"
    }
   ],
   "source": [
    "crosby_shift_per_game_df = train_shift_per_game_df[train_shift_per_game_df['player_id'] == 8471675]\n",
    "crosby_shift_per_game_df = crosby_shift_per_game_df.groupby(['player_id', 'game_id'])['shift_number']\\\n",
    "                           .max().reset_index()\n",
    "crosby_shift_per_game_df = crosby_shift_per_game_df.groupby('player_id')\\\n",
    "                           .agg({'shift_number': ['sum', 'count']}).reset_index()\n",
    "crosby_shift_per_game_df.columns = crosby_shift_per_game_df.columns.to_flat_index().str.join('_')\n",
    "crosby_shift_per_game_df['posterior_alpha'] = 20 + crosby_shift_per_game_df['shift_number_sum']\n",
    "crosby_shift_per_game_df['posterior_beta'] = 1 + crosby_shift_per_game_df['shift_number_count']"
   ]
  },
  {
   "cell_type": "code",
   "execution_count": 106,
   "metadata": {},
   "outputs": [
    {
     "data": {
      "image/png": "[encoded data removed]",
      "text/plain": [
       "<Figure size 432x288 with 1 Axes>"
      ]
     },
     "metadata": {
      "needs_background": "light"
     },
     "output_type": "display_data"
    }
   ],
   "source": [
    "from scipy.stats import gamma\n",
    "r = gamma.rvs(crosby_shift_per_game_df['posterior_alpha'].values, \n",
    "              scale=1/crosby_shift_per_game_df['posterior_beta'].values, size=10000)\n",
    "plt.hist(r, density=True, bins=25)\n",
    "plt.xlabel(\"Sidney Crosby Shifts per Game Lambda Distribution for 20192020 season\")\n",
    "plt.show()"
   ]
  },
  {
   "cell_type": "markdown",
   "metadata": {},
   "source": [
    "For this our posterior predictive Distribution is the Negative Binomial paramaterized like this $ NB(\\alpha, \\frac{\\beta}{\\beta + 1}) $ "
   ]
  },
  {
   "cell_type": "code",
   "execution_count": 110,
   "metadata": {},
   "outputs": [
    {
     "data": {
      "image/png": "[encoded data removed]",
      "text/plain": [
       "<Figure size 432x288 with 1 Axes>"
      ]
     },
     "metadata": {
      "needs_background": "light"
     },
     "output_type": "display_data"
    }
   ],
   "source": [
    "from scipy.stats import nbinom\n",
    "r = nbinom.rvs(crosby_shift_per_game_df['posterior_alpha'].values,\n",
    "               crosby_shift_per_game_df['posterior_beta'].values/(1 + crosby_shift_per_game_df['posterior_beta'].values), \n",
    "               size=10000)\n",
    "plt.hist(r, density=True, bins=25)\n",
    "plt.xlabel(\"Sidney Crosby Shifts per Game Prediction\")\n",
    "plt.show()"
   ]
  },
  {
   "cell_type": "markdown",
   "metadata": {},
   "source": [
    "## Modeling Shift Length\n",
    "\n",
    "Now that we have models for our games played in a season, and the shifts in a game, the next step is to model the length of the shifts themselves. For this I've chosen the Weibull Distribution as it is used to model the time to failure of an item. Here we are defining failure as when a player is forced to leave the ice at the end of his shift. I will just be using MLE estimate of the Weibull parameters given the data since generally most players play the same length of shift in a game."
   ]
  },
  {
   "cell_type": "code",
   "execution_count": 184,
   "metadata": {},
   "outputs": [],
   "source": [
    "# this takes a while to train\n",
    "from scipy.stats import exponweib\n",
    "results = exponweib.fit(train_shift_data['duration'], loc=0)"
   ]
  },
  {
   "cell_type": "code",
   "execution_count": 188,
   "metadata": {},
   "outputs": [
    {
     "data": {
      "image/png": "[encoded data removed]",
      "text/plain": [
       "<Figure size 432x288 with 1 Axes>"
      ]
     },
     "metadata": {
      "needs_background": "light"
     },
     "output_type": "display_data"
    }
   ],
   "source": [
    "#plotting the distribution versus the data\n",
    "x = np.linspace(train_shift_data['duration'].min(), train_shift_data['duration'].max(), 100000)\n",
    "plt.plot(x, exponweib.pdf(x, *results))\n",
    "plt.hist(train_shift_data['duration'], density=True, bins=55, alpha=.2)\n",
    "plt.show()"
   ]
  },
  {
   "cell_type": "code",
   "execution_count": 21,
   "metadata": {},
   "outputs": [
    {
     "data": {
      "text/plain": [
       "41.19147808630383"
      ]
     },
     "execution_count": 21,
     "metadata": {},
     "output_type": "execute_result"
    }
   ],
   "source": [
    "train_shift_data['duration'].mean()"
   ]
  },
  {
   "cell_type": "code",
   "execution_count": 106,
   "metadata": {},
   "outputs": [
    {
     "data": {
      "image/png": "[encoded data removed]",
      "text/plain": [
       "<Figure size 432x288 with 1 Axes>"
      ]
     },
     "metadata": {
      "needs_background": "light"
     },
     "output_type": "display_data"
    }
   ],
   "source": [
    "plt.hist(shift_data[shift_data.PLAYER_ID == 8471675]['DURATION'], bins=55)\n",
    "plt.xlabel(\"shift duration\")\n",
    "plt.ylabel(\"Count\")\n",
    "plt.title(\"Distribution of shift duration\")\n",
    "plt.show()"
   ]
  },
  {
   "cell_type": "code",
   "execution_count": 108,
   "metadata": {},
   "outputs": [
    {
     "data": {
      "image/png": "[encoded data removed]",
      "text/plain": [
       "<Figure size 432x288 with 1 Axes>"
      ]
     },
     "metadata": {
      "needs_background": "light"
     },
     "output_type": "display_data"
    }
   ],
   "source": [
    "plt.hist(shift_data['DURATION'], bins=55)\n",
    "plt.xlabel(\"shift duration\")\n",
    "plt.ylabel(\"Count\")\n",
    "plt.title(\"Distribution of shift duration\")\n",
    "plt.show()"
   ]
  },
  {
   "cell_type": "code",
   "execution_count": 119,
   "metadata": {},
   "outputs": [
    {
     "name": "stdout",
     "output_type": "stream",
     "text": [
      "41.49249951295538\n",
      "43.111989198204995\n",
      "41.19349928591698\n"
     ]
    },
    {
     "data": {
      "text/plain": [
       "8471675"
      ]
     },
     "execution_count": 119,
     "metadata": {},
     "output_type": "execute_result"
    }
   ],
   "source": [
    "print(shift_data[shift_data.player_id == 8476437]['duration'].mean())\n",
    "print(shift_data[shift_data.player_id == 8471675]['duration'].mean())\n",
    "print(shift_data['duration'].mean())\n",
    "8471675"
   ]
  },
  {
   "cell_type": "code",
   "execution_count": 115,
   "metadata": {},
   "outputs": [],
   "source": [
    "shift_count = shift_data[['PLAYER_ID', 'season', 'GAME_ID', 'DURATION']]\\\n",
    "              .groupby(['PLAYER_ID', 'season', 'GAME_ID'], as_index=False)\\\n",
    "              .count().rename(columns={'DURATION': 'num_of_shifts'})"
   ]
  },
  {
   "cell_type": "code",
   "execution_count": 118,
   "metadata": {},
   "outputs": [
    {
     "data": {
      "text/plain": [
       "209"
      ]
     },
     "execution_count": 118,
     "metadata": {},
     "output_type": "execute_result"
    }
   ],
   "source": [
    "shift_count.num_of_shifts.max()"
   ]
  },
  {
   "cell_type": "code",
   "execution_count": 126,
   "metadata": {},
   "outputs": [
    {
     "data": {
      "image/png": "[encoded data removed]",
      "text/plain": [
       "<Figure size 432x288 with 1 Axes>"
      ]
     },
     "metadata": {
      "needs_background": "light"
     },
     "output_type": "display_data"
    }
   ],
   "source": [
    "plt.hist(shift_count[(shift_data.PLAYER_ID == 8475178) & (shift_count.num_of_shifts < 60)]['num_of_shifts'], bins=20)\n",
    "plt.xlabel(\"num_of_shifts\")\n",
    "plt.ylabel(\"Count\")\n",
    "plt.title(\"Distribution of number of shifts per game\")\n",
    "plt.show()"
   ]
  },
  {
   "cell_type": "code",
   "execution_count": 127,
   "metadata": {},
   "outputs": [
    {
     "name": "stderr",
     "output_type": "stream",
     "text": [
      "<ipython-input-127-0d2b47e1382b>:1: UserWarning: Boolean Series key will be reindexed to match DataFrame index.\n",
      "  plt.hist(shift_count[(shift_data.PLAYER_ID == 8475178) & (shift_count.num_of_shifts < 60)]['num_of_shifts'], bins=20)\n"
     ]
    },
    {
     "data": {
      "image/png": "[encoded data removed]",
      "text/plain": [
       "<Figure size 432x288 with 1 Axes>"
      ]
     },
     "metadata": {
      "needs_background": "light"
     },
     "output_type": "display_data"
    }
   ],
   "source": [
    "plt.hist(shift_count[(shift_data.PLAYER_ID == 8475178) & (shift_count.num_of_shifts < 60)]['num_of_shifts'], bins=20)\n",
    "plt.xlabel(\"num_of_shifts\")\n",
    "plt.ylabel(\"Count\")\n",
    "plt.title(\"Distribution of number of shifts per game\")\n",
    "plt.show()"
   ]
  },
  {
   "cell_type": "code",
   "execution_count": 122,
   "metadata": {},
   "outputs": [
    {
     "name": "stderr",
     "output_type": "stream",
     "text": [
      "<ipython-input-122-6b30910bd6a3>:1: UserWarning: Boolean Series key will be reindexed to match DataFrame index.\n",
      "  print(shift_count[(shift_data.PLAYER_ID == 8475178) & (shift_count.num_of_shifts < 60)]['num_of_shifts'].mean())\n"
     ]
    },
    {
     "name": "stdout",
     "output_type": "stream",
     "text": [
      "25.126903553299492\n",
      "23.30448387039941\n"
     ]
    }
   ],
   "source": [
    "print(shift_count[(shift_data.PLAYER_ID == 8475178) & (shift_count.num_of_shifts < 60)]['num_of_shifts'].mean())\n",
    "print(shift_count[(shift_count.num_of_shifts < 60)]['num_of_shifts'].mean())"
   ]
  },
  {
   "cell_type": "code",
   "execution_count": 102,
   "metadata": {},
   "outputs": [
    {
     "data": {
      "text/plain": [
       "966.4666666666667"
      ]
     },
     "execution_count": 102,
     "metadata": {},
     "output_type": "execute_result"
    }
   ],
   "source": [
    "shift_data[(shift_data.PLAYER_ID == 8475178) & (shift_data.season == '2019')].DURATION.sum()/60"
   ]
  },
  {
   "cell_type": "code",
   "execution_count": 98,
   "metadata": {},
   "outputs": [
    {
     "data": {
      "text/plain": [
       "2020030415"
      ]
     },
     "execution_count": 98,
     "metadata": {},
     "output_type": "execute_result"
    }
   ],
   "source": [
    "shift_data.GAME_ID.max()"
   ]
  },
  {
   "cell_type": "markdown",
   "metadata": {},
   "source": [
    "* Look at previous seasons goals correlation with current seasons shift count \n",
    "* for forwards previous season points and toi correlates decently with next season TOI\n",
    "* for defense only really previous TOI maybe check plus minus\n",
    "\n",
    "# Predicting Games Played\n",
    "* GP is a poisson distribution with a truncated gamma conjugate prior and a negative binomial posterior predictive. The initial prior will be the gamma parameters that give an E[X] of 60 games.\n"
   ]
  },
  {
   "cell_type": "code",
   "execution_count": 130,
   "metadata": {},
   "outputs": [
    {
     "data": {
      "text/html": [
       "<div>\n",
       "<style scoped>\n",
       "    .dataframe tbody tr th:only-of-type {\n",
       "        vertical-align: middle;\n",
       "    }\n",
       "\n",
       "    .dataframe tbody tr th {\n",
       "        vertical-align: top;\n",
       "    }\n",
       "\n",
       "    .dataframe thead th {\n",
       "        text-align: right;\n",
       "    }\n",
       "</style>\n",
       "<table border=\"1\" class=\"dataframe\">\n",
       "  <thead>\n",
       "    <tr style=\"text-align: right;\">\n",
       "      <th></th>\n",
       "      <th>player</th>\n",
       "      <th>player_upper</th>\n",
       "      <th>api_id</th>\n",
       "      <th>birthday</th>\n",
       "      <th>season_age</th>\n",
       "      <th>position</th>\n",
       "      <th>position_type</th>\n",
       "      <th>shoots</th>\n",
       "      <th>team</th>\n",
       "      <th>season</th>\n",
       "      <th>session</th>\n",
       "      <th>gp</th>\n",
       "      <th>toi</th>\n",
       "      <th>toi_gp</th>\n",
       "      <th>toi_perc</th>\n",
       "      <th>g</th>\n",
       "      <th>a1</th>\n",
       "      <th>a2</th>\n",
       "      <th>points</th>\n",
       "      <th>isf</th>\n",
       "      <th>iff</th>\n",
       "      <th>icf</th>\n",
       "    </tr>\n",
       "  </thead>\n",
       "  <tbody>\n",
       "    <tr>\n",
       "      <th>814</th>\n",
       "      <td>Sidney Crosby</td>\n",
       "      <td>SIDNEY.CROSBY</td>\n",
       "      <td>8471675</td>\n",
       "      <td>1987-08-07</td>\n",
       "      <td>20.0</td>\n",
       "      <td>C</td>\n",
       "      <td>F</td>\n",
       "      <td>L</td>\n",
       "      <td>PIT</td>\n",
       "      <td>20072008</td>\n",
       "      <td>R</td>\n",
       "      <td>53.0</td>\n",
       "      <td>1104.78</td>\n",
       "      <td>20.84</td>\n",
       "      <td>34.26</td>\n",
       "      <td>24.0</td>\n",
       "      <td>33.0</td>\n",
       "      <td>15.0</td>\n",
       "      <td>72.0</td>\n",
       "      <td>173.0</td>\n",
       "      <td>233.0</td>\n",
       "      <td>280.0</td>\n",
       "    </tr>\n",
       "    <tr>\n",
       "      <th>1755</th>\n",
       "      <td>Sidney Crosby</td>\n",
       "      <td>SIDNEY.CROSBY</td>\n",
       "      <td>8471675</td>\n",
       "      <td>1987-08-07</td>\n",
       "      <td>21.0</td>\n",
       "      <td>C</td>\n",
       "      <td>F</td>\n",
       "      <td>L</td>\n",
       "      <td>PIT</td>\n",
       "      <td>20082009</td>\n",
       "      <td>R</td>\n",
       "      <td>77.0</td>\n",
       "      <td>1690.08</td>\n",
       "      <td>21.95</td>\n",
       "      <td>35.90</td>\n",
       "      <td>33.0</td>\n",
       "      <td>51.0</td>\n",
       "      <td>19.0</td>\n",
       "      <td>103.0</td>\n",
       "      <td>238.0</td>\n",
       "      <td>319.0</td>\n",
       "      <td>388.0</td>\n",
       "    </tr>\n",
       "    <tr>\n",
       "      <th>2713</th>\n",
       "      <td>Sidney Crosby</td>\n",
       "      <td>SIDNEY.CROSBY</td>\n",
       "      <td>8471675</td>\n",
       "      <td>1987-08-07</td>\n",
       "      <td>22.0</td>\n",
       "      <td>C</td>\n",
       "      <td>F</td>\n",
       "      <td>L</td>\n",
       "      <td>PIT</td>\n",
       "      <td>20092010</td>\n",
       "      <td>R</td>\n",
       "      <td>80.0</td>\n",
       "      <td>1756.55</td>\n",
       "      <td>21.96</td>\n",
       "      <td>36.07</td>\n",
       "      <td>51.0</td>\n",
       "      <td>36.0</td>\n",
       "      <td>22.0</td>\n",
       "      <td>109.0</td>\n",
       "      <td>291.0</td>\n",
       "      <td>393.0</td>\n",
       "      <td>490.0</td>\n",
       "    </tr>\n",
       "    <tr>\n",
       "      <th>3680</th>\n",
       "      <td>Sidney Crosby</td>\n",
       "      <td>SIDNEY.CROSBY</td>\n",
       "      <td>8471675</td>\n",
       "      <td>1987-08-07</td>\n",
       "      <td>23.0</td>\n",
       "      <td>C</td>\n",
       "      <td>F</td>\n",
       "      <td>L</td>\n",
       "      <td>PIT</td>\n",
       "      <td>20102011</td>\n",
       "      <td>R</td>\n",
       "      <td>41.0</td>\n",
       "      <td>898.62</td>\n",
       "      <td>21.92</td>\n",
       "      <td>36.09</td>\n",
       "      <td>32.0</td>\n",
       "      <td>20.0</td>\n",
       "      <td>14.0</td>\n",
       "      <td>66.0</td>\n",
       "      <td>161.0</td>\n",
       "      <td>219.0</td>\n",
       "      <td>278.0</td>\n",
       "    </tr>\n",
       "    <tr>\n",
       "      <th>4639</th>\n",
       "      <td>Sidney Crosby</td>\n",
       "      <td>SIDNEY.CROSBY</td>\n",
       "      <td>8471675</td>\n",
       "      <td>1987-08-07</td>\n",
       "      <td>24.0</td>\n",
       "      <td>C</td>\n",
       "      <td>F</td>\n",
       "      <td>L</td>\n",
       "      <td>PIT</td>\n",
       "      <td>20112012</td>\n",
       "      <td>R</td>\n",
       "      <td>22.0</td>\n",
       "      <td>406.38</td>\n",
       "      <td>18.47</td>\n",
       "      <td>30.53</td>\n",
       "      <td>8.0</td>\n",
       "      <td>16.0</td>\n",
       "      <td>13.0</td>\n",
       "      <td>37.0</td>\n",
       "      <td>75.0</td>\n",
       "      <td>97.0</td>\n",
       "      <td>126.0</td>\n",
       "    </tr>\n",
       "    <tr>\n",
       "      <th>5545</th>\n",
       "      <td>Sidney Crosby</td>\n",
       "      <td>SIDNEY.CROSBY</td>\n",
       "      <td>8471675</td>\n",
       "      <td>1987-08-07</td>\n",
       "      <td>25.0</td>\n",
       "      <td>C</td>\n",
       "      <td>F</td>\n",
       "      <td>L</td>\n",
       "      <td>PIT</td>\n",
       "      <td>20122013</td>\n",
       "      <td>R</td>\n",
       "      <td>36.0</td>\n",
       "      <td>759.75</td>\n",
       "      <td>21.10</td>\n",
       "      <td>34.96</td>\n",
       "      <td>15.0</td>\n",
       "      <td>28.0</td>\n",
       "      <td>13.0</td>\n",
       "      <td>56.0</td>\n",
       "      <td>124.0</td>\n",
       "      <td>168.0</td>\n",
       "      <td>203.0</td>\n",
       "    </tr>\n",
       "    <tr>\n",
       "      <th>6487</th>\n",
       "      <td>Sidney Crosby</td>\n",
       "      <td>SIDNEY.CROSBY</td>\n",
       "      <td>8471675</td>\n",
       "      <td>1987-08-07</td>\n",
       "      <td>26.0</td>\n",
       "      <td>C</td>\n",
       "      <td>F</td>\n",
       "      <td>L</td>\n",
       "      <td>PIT</td>\n",
       "      <td>20132014</td>\n",
       "      <td>R</td>\n",
       "      <td>80.0</td>\n",
       "      <td>1757.78</td>\n",
       "      <td>21.97</td>\n",
       "      <td>36.19</td>\n",
       "      <td>36.0</td>\n",
       "      <td>34.0</td>\n",
       "      <td>34.0</td>\n",
       "      <td>104.0</td>\n",
       "      <td>259.0</td>\n",
       "      <td>344.0</td>\n",
       "      <td>421.0</td>\n",
       "    </tr>\n",
       "    <tr>\n",
       "      <th>7442</th>\n",
       "      <td>Sidney Crosby</td>\n",
       "      <td>SIDNEY.CROSBY</td>\n",
       "      <td>8471675</td>\n",
       "      <td>1987-08-07</td>\n",
       "      <td>27.0</td>\n",
       "      <td>C</td>\n",
       "      <td>F</td>\n",
       "      <td>L</td>\n",
       "      <td>PIT</td>\n",
       "      <td>20142015</td>\n",
       "      <td>R</td>\n",
       "      <td>77.0</td>\n",
       "      <td>1538.37</td>\n",
       "      <td>19.98</td>\n",
       "      <td>32.76</td>\n",
       "      <td>28.0</td>\n",
       "      <td>31.0</td>\n",
       "      <td>25.0</td>\n",
       "      <td>84.0</td>\n",
       "      <td>237.0</td>\n",
       "      <td>315.0</td>\n",
       "      <td>380.0</td>\n",
       "    </tr>\n",
       "    <tr>\n",
       "      <th>8419</th>\n",
       "      <td>Sidney Crosby</td>\n",
       "      <td>SIDNEY.CROSBY</td>\n",
       "      <td>8471675</td>\n",
       "      <td>1987-08-07</td>\n",
       "      <td>28.0</td>\n",
       "      <td>C</td>\n",
       "      <td>F</td>\n",
       "      <td>L</td>\n",
       "      <td>PIT</td>\n",
       "      <td>20152016</td>\n",
       "      <td>R</td>\n",
       "      <td>80.0</td>\n",
       "      <td>1637.55</td>\n",
       "      <td>20.47</td>\n",
       "      <td>33.66</td>\n",
       "      <td>36.0</td>\n",
       "      <td>28.0</td>\n",
       "      <td>21.0</td>\n",
       "      <td>85.0</td>\n",
       "      <td>248.0</td>\n",
       "      <td>342.0</td>\n",
       "      <td>446.0</td>\n",
       "    </tr>\n",
       "    <tr>\n",
       "      <th>9368</th>\n",
       "      <td>Sidney Crosby</td>\n",
       "      <td>SIDNEY.CROSBY</td>\n",
       "      <td>8471675</td>\n",
       "      <td>1987-08-07</td>\n",
       "      <td>29.0</td>\n",
       "      <td>C</td>\n",
       "      <td>F</td>\n",
       "      <td>L</td>\n",
       "      <td>PIT</td>\n",
       "      <td>20162017</td>\n",
       "      <td>R</td>\n",
       "      <td>75.0</td>\n",
       "      <td>1490.83</td>\n",
       "      <td>19.88</td>\n",
       "      <td>32.66</td>\n",
       "      <td>44.0</td>\n",
       "      <td>28.0</td>\n",
       "      <td>17.0</td>\n",
       "      <td>89.0</td>\n",
       "      <td>255.0</td>\n",
       "      <td>325.0</td>\n",
       "      <td>411.0</td>\n",
       "    </tr>\n",
       "    <tr>\n",
       "      <th>10328</th>\n",
       "      <td>Sidney Crosby</td>\n",
       "      <td>SIDNEY.CROSBY</td>\n",
       "      <td>8471675</td>\n",
       "      <td>1987-08-07</td>\n",
       "      <td>30.0</td>\n",
       "      <td>C</td>\n",
       "      <td>F</td>\n",
       "      <td>L</td>\n",
       "      <td>PIT</td>\n",
       "      <td>20172018</td>\n",
       "      <td>R</td>\n",
       "      <td>82.0</td>\n",
       "      <td>1696.52</td>\n",
       "      <td>20.69</td>\n",
       "      <td>34.16</td>\n",
       "      <td>29.0</td>\n",
       "      <td>33.0</td>\n",
       "      <td>27.0</td>\n",
       "      <td>89.0</td>\n",
       "      <td>247.0</td>\n",
       "      <td>341.0</td>\n",
       "      <td>412.0</td>\n",
       "    </tr>\n",
       "    <tr>\n",
       "      <th>11330</th>\n",
       "      <td>Sidney Crosby</td>\n",
       "      <td>SIDNEY.CROSBY</td>\n",
       "      <td>8471675</td>\n",
       "      <td>1987-08-07</td>\n",
       "      <td>31.0</td>\n",
       "      <td>C</td>\n",
       "      <td>F</td>\n",
       "      <td>L</td>\n",
       "      <td>PIT</td>\n",
       "      <td>20182019</td>\n",
       "      <td>R</td>\n",
       "      <td>79.0</td>\n",
       "      <td>1658.35</td>\n",
       "      <td>20.99</td>\n",
       "      <td>34.54</td>\n",
       "      <td>35.0</td>\n",
       "      <td>49.0</td>\n",
       "      <td>16.0</td>\n",
       "      <td>100.0</td>\n",
       "      <td>220.0</td>\n",
       "      <td>290.0</td>\n",
       "      <td>348.0</td>\n",
       "    </tr>\n",
       "    <tr>\n",
       "      <th>12274</th>\n",
       "      <td>Sidney Crosby</td>\n",
       "      <td>SIDNEY.CROSBY</td>\n",
       "      <td>8471675</td>\n",
       "      <td>1987-08-07</td>\n",
       "      <td>32.0</td>\n",
       "      <td>C</td>\n",
       "      <td>F</td>\n",
       "      <td>L</td>\n",
       "      <td>PIT</td>\n",
       "      <td>20192020</td>\n",
       "      <td>R</td>\n",
       "      <td>41.0</td>\n",
       "      <td>830.13</td>\n",
       "      <td>20.25</td>\n",
       "      <td>33.47</td>\n",
       "      <td>16.0</td>\n",
       "      <td>20.0</td>\n",
       "      <td>11.0</td>\n",
       "      <td>47.0</td>\n",
       "      <td>109.0</td>\n",
       "      <td>143.0</td>\n",
       "      <td>163.0</td>\n",
       "    </tr>\n",
       "  </tbody>\n",
       "</table>\n",
       "</div>"
      ],
      "text/plain": [
       "              player   player_upper   api_id    birthday  season_age position  \\\n",
       "814    Sidney Crosby  SIDNEY.CROSBY  8471675  1987-08-07        20.0        C   \n",
       "1755   Sidney Crosby  SIDNEY.CROSBY  8471675  1987-08-07        21.0        C   \n",
       "2713   Sidney Crosby  SIDNEY.CROSBY  8471675  1987-08-07        22.0        C   \n",
       "3680   Sidney Crosby  SIDNEY.CROSBY  8471675  1987-08-07        23.0        C   \n",
       "4639   Sidney Crosby  SIDNEY.CROSBY  8471675  1987-08-07        24.0        C   \n",
       "5545   Sidney Crosby  SIDNEY.CROSBY  8471675  1987-08-07        25.0        C   \n",
       "6487   Sidney Crosby  SIDNEY.CROSBY  8471675  1987-08-07        26.0        C   \n",
       "7442   Sidney Crosby  SIDNEY.CROSBY  8471675  1987-08-07        27.0        C   \n",
       "8419   Sidney Crosby  SIDNEY.CROSBY  8471675  1987-08-07        28.0        C   \n",
       "9368   Sidney Crosby  SIDNEY.CROSBY  8471675  1987-08-07        29.0        C   \n",
       "10328  Sidney Crosby  SIDNEY.CROSBY  8471675  1987-08-07        30.0        C   \n",
       "11330  Sidney Crosby  SIDNEY.CROSBY  8471675  1987-08-07        31.0        C   \n",
       "12274  Sidney Crosby  SIDNEY.CROSBY  8471675  1987-08-07        32.0        C   \n",
       "\n",
       "      position_type shoots team    season session    gp      toi  toi_gp  \\\n",
       "814               F      L  PIT  20072008       R  53.0  1104.78   20.84   \n",
       "1755              F      L  PIT  20082009       R  77.0  1690.08   21.95   \n",
       "2713              F      L  PIT  20092010       R  80.0  1756.55   21.96   \n",
       "3680              F      L  PIT  20102011       R  41.0   898.62   21.92   \n",
       "4639              F      L  PIT  20112012       R  22.0   406.38   18.47   \n",
       "5545              F      L  PIT  20122013       R  36.0   759.75   21.10   \n",
       "6487              F      L  PIT  20132014       R  80.0  1757.78   21.97   \n",
       "7442              F      L  PIT  20142015       R  77.0  1538.37   19.98   \n",
       "8419              F      L  PIT  20152016       R  80.0  1637.55   20.47   \n",
       "9368              F      L  PIT  20162017       R  75.0  1490.83   19.88   \n",
       "10328             F      L  PIT  20172018       R  82.0  1696.52   20.69   \n",
       "11330             F      L  PIT  20182019       R  79.0  1658.35   20.99   \n",
       "12274             F      L  PIT  20192020       R  41.0   830.13   20.25   \n",
       "\n",
       "       toi_perc     g    a1    a2  points    isf    iff    icf  \n",
       "814       34.26  24.0  33.0  15.0    72.0  173.0  233.0  280.0  \n",
       "1755      35.90  33.0  51.0  19.0   103.0  238.0  319.0  388.0  \n",
       "2713      36.07  51.0  36.0  22.0   109.0  291.0  393.0  490.0  \n",
       "3680      36.09  32.0  20.0  14.0    66.0  161.0  219.0  278.0  \n",
       "4639      30.53   8.0  16.0  13.0    37.0   75.0   97.0  126.0  \n",
       "5545      34.96  15.0  28.0  13.0    56.0  124.0  168.0  203.0  \n",
       "6487      36.19  36.0  34.0  34.0   104.0  259.0  344.0  421.0  \n",
       "7442      32.76  28.0  31.0  25.0    84.0  237.0  315.0  380.0  \n",
       "8419      33.66  36.0  28.0  21.0    85.0  248.0  342.0  446.0  \n",
       "9368      32.66  44.0  28.0  17.0    89.0  255.0  325.0  411.0  \n",
       "10328     34.16  29.0  33.0  27.0    89.0  247.0  341.0  412.0  \n",
       "11330     34.54  35.0  49.0  16.0   100.0  220.0  290.0  348.0  \n",
       "12274     33.47  16.0  20.0  11.0    47.0  109.0  143.0  163.0  "
      ]
     },
     "execution_count": 130,
     "metadata": {},
     "output_type": "execute_result"
    }
   ],
   "source": [
    "sidney_df = all_sits_goal_data[all_sits_goal_data.player_upper == 'SIDNEY.CROSBY']\n",
    "sidney_df.sort_values('season')"
   ]
  },
  {
   "cell_type": "code",
   "execution_count": 135,
   "metadata": {},
   "outputs": [],
   "source": [
    "prior_alpha = 10\n",
    "prior_beta = .1666\n",
    "\n",
    "posterior_predictive_sample = np.random.negative_binomial(prior_alpha + 53, 1/(1 + (prior_beta + 1)), size=1000)"
   ]
  },
  {
   "cell_type": "code",
   "execution_count": 137,
   "metadata": {},
   "outputs": [
    {
     "data": {
      "image/png": "[encoded data removed]",
      "text/plain": [
       "<Figure size 432x288 with 1 Axes>"
      ]
     },
     "metadata": {
      "needs_background": "light"
     },
     "output_type": "display_data"
    }
   ],
   "source": [
    "plt.hist(posterior_predictive_sample, bins=55)\n",
    "plt.show()"
   ]
  },
  {
   "cell_type": "code",
   "execution_count": 134,
   "metadata": {},
   "outputs": [
    {
     "name": "stdout",
     "output_type": "stream",
     "text": [
      "[310.80000003]\n"
     ]
    }
   ],
   "source": [
    "test = np.empty(1)\n",
    "print(test)"
   ]
  },
  {
   "cell_type": "markdown",
   "metadata": {},
   "source": [
    "# Sources\n",
    "\n",
    "[Intuition behind posterior predictive](https://stats.stackexchange.com/questions/438218/intuition-behind-posterior-predictive-distribution) Cross Validated\n",
    "\n",
    "https://www.johndcook.com/blog/distributions_scipy/\n",
    "\n",
    "https://ocw.mit.edu/courses/mathematics/18-05-introduction-to-probability-and-statistics-spring-2014/readings/MIT18_05S14_Reading15a.pdf"
   ]
  },
  {
   "cell_type": "code",
   "execution_count": null,
   "metadata": {},
   "outputs": [],
   "source": []
  }
 ],
 "metadata": {
  "kernelspec": {
   "display_name": "mlb",
   "language": "python",
   "name": "mlb"
  },
  "language_info": {
   "codemirror_mode": {
    "name": "ipython",
    "version": 3
   },
   "file_extension": ".py",
   "mimetype": "text/x-python",
   "name": "python",
   "nbconvert_exporter": "python",
   "pygments_lexer": "ipython3",
   "version": "3.7.8"
  }
 },
 "nbformat": 4,
 "nbformat_minor": 4
}
