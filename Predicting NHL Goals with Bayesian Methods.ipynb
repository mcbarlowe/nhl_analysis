{
 "cells": [
  {
   "cell_type": "code",
   "execution_count": 7,
   "metadata": {},
   "outputs": [],
   "source": [
    "import pandas as pd\n",
    "import numpy as np\n",
    "import matplotlib.pyplot as plt\n",
    "\n",
    "pd.set_option('display.max_columns', None)\n",
    "pd.set_option('display.max_rows', None)"
   ]
  },
  {
   "cell_type": "code",
   "execution_count": 8,
   "metadata": {},
   "outputs": [],
   "source": [
    "all_sits_goal_data = pd.read_csv('all_sits_player_goal_data.csv')"
   ]
  },
  {
   "cell_type": "code",
   "execution_count": 105,
   "metadata": {},
   "outputs": [
    {
     "data": {
      "text/html": [
       "<div>\n",
       "<style scoped>\n",
       "    .dataframe tbody tr th:only-of-type {\n",
       "        vertical-align: middle;\n",
       "    }\n",
       "\n",
       "    .dataframe tbody tr th {\n",
       "        vertical-align: top;\n",
       "    }\n",
       "\n",
       "    .dataframe thead th {\n",
       "        text-align: right;\n",
       "    }\n",
       "</style>\n",
       "<table border=\"1\" class=\"dataframe\">\n",
       "  <thead>\n",
       "    <tr style=\"text-align: right;\">\n",
       "      <th></th>\n",
       "      <th>player</th>\n",
       "      <th>player_upper</th>\n",
       "      <th>api_id</th>\n",
       "      <th>birthday</th>\n",
       "      <th>season_age</th>\n",
       "      <th>position</th>\n",
       "      <th>position_type</th>\n",
       "      <th>shoots</th>\n",
       "      <th>team</th>\n",
       "      <th>season</th>\n",
       "      <th>session</th>\n",
       "      <th>gp</th>\n",
       "      <th>toi</th>\n",
       "      <th>toi_gp</th>\n",
       "      <th>toi_perc</th>\n",
       "      <th>g</th>\n",
       "      <th>a1</th>\n",
       "      <th>a2</th>\n",
       "      <th>points</th>\n",
       "      <th>isf</th>\n",
       "      <th>iff</th>\n",
       "      <th>icf</th>\n",
       "    </tr>\n",
       "  </thead>\n",
       "  <tbody>\n",
       "    <tr>\n",
       "      <th>814</th>\n",
       "      <td>Sidney Crosby</td>\n",
       "      <td>SIDNEY.CROSBY</td>\n",
       "      <td>8471675</td>\n",
       "      <td>1987-08-07</td>\n",
       "      <td>20.0</td>\n",
       "      <td>C</td>\n",
       "      <td>F</td>\n",
       "      <td>L</td>\n",
       "      <td>PIT</td>\n",
       "      <td>20072008</td>\n",
       "      <td>R</td>\n",
       "      <td>53.0</td>\n",
       "      <td>1104.78</td>\n",
       "      <td>20.84</td>\n",
       "      <td>34.26</td>\n",
       "      <td>24.0</td>\n",
       "      <td>33.0</td>\n",
       "      <td>15.0</td>\n",
       "      <td>72.0</td>\n",
       "      <td>173.0</td>\n",
       "      <td>233.0</td>\n",
       "      <td>280.0</td>\n",
       "    </tr>\n",
       "    <tr>\n",
       "      <th>1755</th>\n",
       "      <td>Sidney Crosby</td>\n",
       "      <td>SIDNEY.CROSBY</td>\n",
       "      <td>8471675</td>\n",
       "      <td>1987-08-07</td>\n",
       "      <td>21.0</td>\n",
       "      <td>C</td>\n",
       "      <td>F</td>\n",
       "      <td>L</td>\n",
       "      <td>PIT</td>\n",
       "      <td>20082009</td>\n",
       "      <td>R</td>\n",
       "      <td>77.0</td>\n",
       "      <td>1690.08</td>\n",
       "      <td>21.95</td>\n",
       "      <td>35.90</td>\n",
       "      <td>33.0</td>\n",
       "      <td>51.0</td>\n",
       "      <td>19.0</td>\n",
       "      <td>103.0</td>\n",
       "      <td>238.0</td>\n",
       "      <td>319.0</td>\n",
       "      <td>388.0</td>\n",
       "    </tr>\n",
       "    <tr>\n",
       "      <th>2713</th>\n",
       "      <td>Sidney Crosby</td>\n",
       "      <td>SIDNEY.CROSBY</td>\n",
       "      <td>8471675</td>\n",
       "      <td>1987-08-07</td>\n",
       "      <td>22.0</td>\n",
       "      <td>C</td>\n",
       "      <td>F</td>\n",
       "      <td>L</td>\n",
       "      <td>PIT</td>\n",
       "      <td>20092010</td>\n",
       "      <td>R</td>\n",
       "      <td>80.0</td>\n",
       "      <td>1756.55</td>\n",
       "      <td>21.96</td>\n",
       "      <td>36.07</td>\n",
       "      <td>51.0</td>\n",
       "      <td>36.0</td>\n",
       "      <td>22.0</td>\n",
       "      <td>109.0</td>\n",
       "      <td>291.0</td>\n",
       "      <td>393.0</td>\n",
       "      <td>490.0</td>\n",
       "    </tr>\n",
       "    <tr>\n",
       "      <th>3680</th>\n",
       "      <td>Sidney Crosby</td>\n",
       "      <td>SIDNEY.CROSBY</td>\n",
       "      <td>8471675</td>\n",
       "      <td>1987-08-07</td>\n",
       "      <td>23.0</td>\n",
       "      <td>C</td>\n",
       "      <td>F</td>\n",
       "      <td>L</td>\n",
       "      <td>PIT</td>\n",
       "      <td>20102011</td>\n",
       "      <td>R</td>\n",
       "      <td>41.0</td>\n",
       "      <td>898.62</td>\n",
       "      <td>21.92</td>\n",
       "      <td>36.09</td>\n",
       "      <td>32.0</td>\n",
       "      <td>20.0</td>\n",
       "      <td>14.0</td>\n",
       "      <td>66.0</td>\n",
       "      <td>161.0</td>\n",
       "      <td>219.0</td>\n",
       "      <td>278.0</td>\n",
       "    </tr>\n",
       "    <tr>\n",
       "      <th>4639</th>\n",
       "      <td>Sidney Crosby</td>\n",
       "      <td>SIDNEY.CROSBY</td>\n",
       "      <td>8471675</td>\n",
       "      <td>1987-08-07</td>\n",
       "      <td>24.0</td>\n",
       "      <td>C</td>\n",
       "      <td>F</td>\n",
       "      <td>L</td>\n",
       "      <td>PIT</td>\n",
       "      <td>20112012</td>\n",
       "      <td>R</td>\n",
       "      <td>22.0</td>\n",
       "      <td>406.38</td>\n",
       "      <td>18.47</td>\n",
       "      <td>30.53</td>\n",
       "      <td>8.0</td>\n",
       "      <td>16.0</td>\n",
       "      <td>13.0</td>\n",
       "      <td>37.0</td>\n",
       "      <td>75.0</td>\n",
       "      <td>97.0</td>\n",
       "      <td>126.0</td>\n",
       "    </tr>\n",
       "    <tr>\n",
       "      <th>5545</th>\n",
       "      <td>Sidney Crosby</td>\n",
       "      <td>SIDNEY.CROSBY</td>\n",
       "      <td>8471675</td>\n",
       "      <td>1987-08-07</td>\n",
       "      <td>25.0</td>\n",
       "      <td>C</td>\n",
       "      <td>F</td>\n",
       "      <td>L</td>\n",
       "      <td>PIT</td>\n",
       "      <td>20122013</td>\n",
       "      <td>R</td>\n",
       "      <td>36.0</td>\n",
       "      <td>759.75</td>\n",
       "      <td>21.10</td>\n",
       "      <td>34.96</td>\n",
       "      <td>15.0</td>\n",
       "      <td>28.0</td>\n",
       "      <td>13.0</td>\n",
       "      <td>56.0</td>\n",
       "      <td>124.0</td>\n",
       "      <td>168.0</td>\n",
       "      <td>203.0</td>\n",
       "    </tr>\n",
       "    <tr>\n",
       "      <th>6487</th>\n",
       "      <td>Sidney Crosby</td>\n",
       "      <td>SIDNEY.CROSBY</td>\n",
       "      <td>8471675</td>\n",
       "      <td>1987-08-07</td>\n",
       "      <td>26.0</td>\n",
       "      <td>C</td>\n",
       "      <td>F</td>\n",
       "      <td>L</td>\n",
       "      <td>PIT</td>\n",
       "      <td>20132014</td>\n",
       "      <td>R</td>\n",
       "      <td>80.0</td>\n",
       "      <td>1757.78</td>\n",
       "      <td>21.97</td>\n",
       "      <td>36.19</td>\n",
       "      <td>36.0</td>\n",
       "      <td>34.0</td>\n",
       "      <td>34.0</td>\n",
       "      <td>104.0</td>\n",
       "      <td>259.0</td>\n",
       "      <td>344.0</td>\n",
       "      <td>421.0</td>\n",
       "    </tr>\n",
       "    <tr>\n",
       "      <th>7442</th>\n",
       "      <td>Sidney Crosby</td>\n",
       "      <td>SIDNEY.CROSBY</td>\n",
       "      <td>8471675</td>\n",
       "      <td>1987-08-07</td>\n",
       "      <td>27.0</td>\n",
       "      <td>C</td>\n",
       "      <td>F</td>\n",
       "      <td>L</td>\n",
       "      <td>PIT</td>\n",
       "      <td>20142015</td>\n",
       "      <td>R</td>\n",
       "      <td>77.0</td>\n",
       "      <td>1538.37</td>\n",
       "      <td>19.98</td>\n",
       "      <td>32.76</td>\n",
       "      <td>28.0</td>\n",
       "      <td>31.0</td>\n",
       "      <td>25.0</td>\n",
       "      <td>84.0</td>\n",
       "      <td>237.0</td>\n",
       "      <td>315.0</td>\n",
       "      <td>380.0</td>\n",
       "    </tr>\n",
       "    <tr>\n",
       "      <th>8419</th>\n",
       "      <td>Sidney Crosby</td>\n",
       "      <td>SIDNEY.CROSBY</td>\n",
       "      <td>8471675</td>\n",
       "      <td>1987-08-07</td>\n",
       "      <td>28.0</td>\n",
       "      <td>C</td>\n",
       "      <td>F</td>\n",
       "      <td>L</td>\n",
       "      <td>PIT</td>\n",
       "      <td>20152016</td>\n",
       "      <td>R</td>\n",
       "      <td>80.0</td>\n",
       "      <td>1637.55</td>\n",
       "      <td>20.47</td>\n",
       "      <td>33.66</td>\n",
       "      <td>36.0</td>\n",
       "      <td>28.0</td>\n",
       "      <td>21.0</td>\n",
       "      <td>85.0</td>\n",
       "      <td>248.0</td>\n",
       "      <td>342.0</td>\n",
       "      <td>446.0</td>\n",
       "    </tr>\n",
       "    <tr>\n",
       "      <th>9368</th>\n",
       "      <td>Sidney Crosby</td>\n",
       "      <td>SIDNEY.CROSBY</td>\n",
       "      <td>8471675</td>\n",
       "      <td>1987-08-07</td>\n",
       "      <td>29.0</td>\n",
       "      <td>C</td>\n",
       "      <td>F</td>\n",
       "      <td>L</td>\n",
       "      <td>PIT</td>\n",
       "      <td>20162017</td>\n",
       "      <td>R</td>\n",
       "      <td>75.0</td>\n",
       "      <td>1490.83</td>\n",
       "      <td>19.88</td>\n",
       "      <td>32.66</td>\n",
       "      <td>44.0</td>\n",
       "      <td>28.0</td>\n",
       "      <td>17.0</td>\n",
       "      <td>89.0</td>\n",
       "      <td>255.0</td>\n",
       "      <td>325.0</td>\n",
       "      <td>411.0</td>\n",
       "    </tr>\n",
       "    <tr>\n",
       "      <th>10328</th>\n",
       "      <td>Sidney Crosby</td>\n",
       "      <td>SIDNEY.CROSBY</td>\n",
       "      <td>8471675</td>\n",
       "      <td>1987-08-07</td>\n",
       "      <td>30.0</td>\n",
       "      <td>C</td>\n",
       "      <td>F</td>\n",
       "      <td>L</td>\n",
       "      <td>PIT</td>\n",
       "      <td>20172018</td>\n",
       "      <td>R</td>\n",
       "      <td>82.0</td>\n",
       "      <td>1696.52</td>\n",
       "      <td>20.69</td>\n",
       "      <td>34.16</td>\n",
       "      <td>29.0</td>\n",
       "      <td>33.0</td>\n",
       "      <td>27.0</td>\n",
       "      <td>89.0</td>\n",
       "      <td>247.0</td>\n",
       "      <td>341.0</td>\n",
       "      <td>412.0</td>\n",
       "    </tr>\n",
       "    <tr>\n",
       "      <th>11330</th>\n",
       "      <td>Sidney Crosby</td>\n",
       "      <td>SIDNEY.CROSBY</td>\n",
       "      <td>8471675</td>\n",
       "      <td>1987-08-07</td>\n",
       "      <td>31.0</td>\n",
       "      <td>C</td>\n",
       "      <td>F</td>\n",
       "      <td>L</td>\n",
       "      <td>PIT</td>\n",
       "      <td>20182019</td>\n",
       "      <td>R</td>\n",
       "      <td>79.0</td>\n",
       "      <td>1658.35</td>\n",
       "      <td>20.99</td>\n",
       "      <td>34.54</td>\n",
       "      <td>35.0</td>\n",
       "      <td>49.0</td>\n",
       "      <td>16.0</td>\n",
       "      <td>100.0</td>\n",
       "      <td>220.0</td>\n",
       "      <td>290.0</td>\n",
       "      <td>348.0</td>\n",
       "    </tr>\n",
       "    <tr>\n",
       "      <th>12274</th>\n",
       "      <td>Sidney Crosby</td>\n",
       "      <td>SIDNEY.CROSBY</td>\n",
       "      <td>8471675</td>\n",
       "      <td>1987-08-07</td>\n",
       "      <td>32.0</td>\n",
       "      <td>C</td>\n",
       "      <td>F</td>\n",
       "      <td>L</td>\n",
       "      <td>PIT</td>\n",
       "      <td>20192020</td>\n",
       "      <td>R</td>\n",
       "      <td>41.0</td>\n",
       "      <td>830.13</td>\n",
       "      <td>20.25</td>\n",
       "      <td>33.47</td>\n",
       "      <td>16.0</td>\n",
       "      <td>20.0</td>\n",
       "      <td>11.0</td>\n",
       "      <td>47.0</td>\n",
       "      <td>109.0</td>\n",
       "      <td>143.0</td>\n",
       "      <td>163.0</td>\n",
       "    </tr>\n",
       "  </tbody>\n",
       "</table>\n",
       "</div>"
      ],
      "text/plain": [
       "              player   player_upper   api_id    birthday  season_age position  \\\n",
       "814    Sidney Crosby  SIDNEY.CROSBY  8471675  1987-08-07        20.0        C   \n",
       "1755   Sidney Crosby  SIDNEY.CROSBY  8471675  1987-08-07        21.0        C   \n",
       "2713   Sidney Crosby  SIDNEY.CROSBY  8471675  1987-08-07        22.0        C   \n",
       "3680   Sidney Crosby  SIDNEY.CROSBY  8471675  1987-08-07        23.0        C   \n",
       "4639   Sidney Crosby  SIDNEY.CROSBY  8471675  1987-08-07        24.0        C   \n",
       "5545   Sidney Crosby  SIDNEY.CROSBY  8471675  1987-08-07        25.0        C   \n",
       "6487   Sidney Crosby  SIDNEY.CROSBY  8471675  1987-08-07        26.0        C   \n",
       "7442   Sidney Crosby  SIDNEY.CROSBY  8471675  1987-08-07        27.0        C   \n",
       "8419   Sidney Crosby  SIDNEY.CROSBY  8471675  1987-08-07        28.0        C   \n",
       "9368   Sidney Crosby  SIDNEY.CROSBY  8471675  1987-08-07        29.0        C   \n",
       "10328  Sidney Crosby  SIDNEY.CROSBY  8471675  1987-08-07        30.0        C   \n",
       "11330  Sidney Crosby  SIDNEY.CROSBY  8471675  1987-08-07        31.0        C   \n",
       "12274  Sidney Crosby  SIDNEY.CROSBY  8471675  1987-08-07        32.0        C   \n",
       "\n",
       "      position_type shoots team    season session    gp      toi  toi_gp  \\\n",
       "814               F      L  PIT  20072008       R  53.0  1104.78   20.84   \n",
       "1755              F      L  PIT  20082009       R  77.0  1690.08   21.95   \n",
       "2713              F      L  PIT  20092010       R  80.0  1756.55   21.96   \n",
       "3680              F      L  PIT  20102011       R  41.0   898.62   21.92   \n",
       "4639              F      L  PIT  20112012       R  22.0   406.38   18.47   \n",
       "5545              F      L  PIT  20122013       R  36.0   759.75   21.10   \n",
       "6487              F      L  PIT  20132014       R  80.0  1757.78   21.97   \n",
       "7442              F      L  PIT  20142015       R  77.0  1538.37   19.98   \n",
       "8419              F      L  PIT  20152016       R  80.0  1637.55   20.47   \n",
       "9368              F      L  PIT  20162017       R  75.0  1490.83   19.88   \n",
       "10328             F      L  PIT  20172018       R  82.0  1696.52   20.69   \n",
       "11330             F      L  PIT  20182019       R  79.0  1658.35   20.99   \n",
       "12274             F      L  PIT  20192020       R  41.0   830.13   20.25   \n",
       "\n",
       "       toi_perc     g    a1    a2  points    isf    iff    icf  \n",
       "814       34.26  24.0  33.0  15.0    72.0  173.0  233.0  280.0  \n",
       "1755      35.90  33.0  51.0  19.0   103.0  238.0  319.0  388.0  \n",
       "2713      36.07  51.0  36.0  22.0   109.0  291.0  393.0  490.0  \n",
       "3680      36.09  32.0  20.0  14.0    66.0  161.0  219.0  278.0  \n",
       "4639      30.53   8.0  16.0  13.0    37.0   75.0   97.0  126.0  \n",
       "5545      34.96  15.0  28.0  13.0    56.0  124.0  168.0  203.0  \n",
       "6487      36.19  36.0  34.0  34.0   104.0  259.0  344.0  421.0  \n",
       "7442      32.76  28.0  31.0  25.0    84.0  237.0  315.0  380.0  \n",
       "8419      33.66  36.0  28.0  21.0    85.0  248.0  342.0  446.0  \n",
       "9368      32.66  44.0  28.0  17.0    89.0  255.0  325.0  411.0  \n",
       "10328     34.16  29.0  33.0  27.0    89.0  247.0  341.0  412.0  \n",
       "11330     34.54  35.0  49.0  16.0   100.0  220.0  290.0  348.0  \n",
       "12274     33.47  16.0  20.0  11.0    47.0  109.0  143.0  163.0  "
      ]
     },
     "execution_count": 105,
     "metadata": {},
     "output_type": "execute_result"
    }
   ],
   "source": [
    "all_sits_goal_data[all_sits_goal_data.player_upper == 'SIDNEY.CROSBY']"
   ]
  },
  {
   "cell_type": "code",
   "execution_count": 16,
   "metadata": {},
   "outputs": [],
   "source": [
    "forwards_goal_data = all_sits_goal_data[all_sits_goal_data['position'] != 'D']\n",
    "defense_goal_data = all_sits_goal_data[all_sits_goal_data['position'] == 'D']"
   ]
  },
  {
   "cell_type": "code",
   "execution_count": 48,
   "metadata": {},
   "outputs": [
    {
     "name": "stdout",
     "output_type": "stream",
     "text": [
      "Forwards TOI summary stats\n",
      "count    8164.000000\n",
      "mean      671.720061\n",
      "std       512.604988\n",
      "min         1.430000\n",
      "25%       169.095000\n",
      "50%       625.665000\n",
      "75%      1113.372500\n",
      "max      1991.280000\n",
      "Name: toi, dtype: float64\n",
      "Defense TOI summary stats\n",
      "count    4243.000000\n",
      "mean      863.717226\n",
      "std       631.214286\n",
      "min         0.750000\n",
      "25%       257.620000\n",
      "50%       831.120000\n",
      "75%      1406.635000\n",
      "max      2411.950000\n",
      "Name: toi, dtype: float64\n"
     ]
    }
   ],
   "source": [
    "print(\"Forwards TOI summary stats\")\n",
    "print(forwards_goal_data['toi'].describe())\n",
    "print(\"Defense TOI summary stats\")\n",
    "print(defense_goal_data['toi'].describe())"
   ]
  },
  {
   "cell_type": "code",
   "execution_count": 49,
   "metadata": {},
   "outputs": [
    {
     "data": {
      "image/png": "[encoded data removed]",
      "text/plain": [
       "<Figure size 432x288 with 1 Axes>"
      ]
     },
     "metadata": {
      "needs_background": "light"
     },
     "output_type": "display_data"
    }
   ],
   "source": [
    "plt.hist(forwards_goal_data['toi'], bins=55)\n",
    "plt.xlabel(\"TOI\")\n",
    "plt.ylabel(\"Count\")\n",
    "plt.title(\"Distribution of TOI\")\n",
    "plt.show()"
   ]
  },
  {
   "cell_type": "code",
   "execution_count": 50,
   "metadata": {},
   "outputs": [
    {
     "data": {
      "image/png": "[encoded data removed]",
      "text/plain": [
       "<Figure size 432x288 with 1 Axes>"
      ]
     },
     "metadata": {
      "needs_background": "light"
     },
     "output_type": "display_data"
    }
   ],
   "source": [
    "plt.hist(defense_goal_data['toi'], bins=35)\n",
    "plt.xlabel(\"TOI\")\n",
    "plt.ylabel(\"Count\")\n",
    "plt.title(\"Distribution of TOI\")\n",
    "plt.show()"
   ]
  },
  {
   "cell_type": "markdown",
   "metadata": {},
   "source": [
    "My hypothesis is that goals and points is a funtion of TOI. So I need to accurately model TOI in order model goals. So my first step will being building a TOI distribution posterior with a likelihood and prior\n",
    "\n",
    "## Posible Distributions\n",
    "* Dagum distribution\n",
    "* exponential logarithmic distribution\n",
    "* pareto to model the tail drop off "
   ]
  },
  {
   "cell_type": "code",
   "execution_count": 51,
   "metadata": {},
   "outputs": [],
   "source": [
    "shift_data = pd.read_csv('matt.csv')\n",
    "shift_data['season'] = shift_data['GAME_ID'].astype(str).str.slice(stop=4)"
   ]
  },
  {
   "cell_type": "code",
   "execution_count": 103,
   "metadata": {},
   "outputs": [],
   "source": [
    "shift_data = shift_data[shift_data.DURATION < 200]"
   ]
  },
  {
   "cell_type": "code",
   "execution_count": 106,
   "metadata": {},
   "outputs": [
    {
     "data": {
      "image/png": "[encoded data removed]",
      "text/plain": [
       "<Figure size 432x288 with 1 Axes>"
      ]
     },
     "metadata": {
      "needs_background": "light"
     },
     "output_type": "display_data"
    }
   ],
   "source": [
    "plt.hist(shift_data[shift_data.PLAYER_ID == 8471675]['DURATION'], bins=55)\n",
    "plt.xlabel(\"shift duration\")\n",
    "plt.ylabel(\"Count\")\n",
    "plt.title(\"Distribution of shift duration\")\n",
    "plt.show()"
   ]
  },
  {
   "cell_type": "code",
   "execution_count": 108,
   "metadata": {},
   "outputs": [
    {
     "data": {
      "image/png": "[encoded data removed]",
      "text/plain": [
       "<Figure size 432x288 with 1 Axes>"
      ]
     },
     "metadata": {
      "needs_background": "light"
     },
     "output_type": "display_data"
    }
   ],
   "source": [
    "plt.hist(shift_data['DURATION'], bins=55)\n",
    "plt.xlabel(\"shift duration\")\n",
    "plt.ylabel(\"Count\")\n",
    "plt.title(\"Distribution of shift duration\")\n",
    "plt.show()"
   ]
  },
  {
   "cell_type": "code",
   "execution_count": 89,
   "metadata": {},
   "outputs": [],
   "source": [
    "shift_count = shift_data[['PLAYER_ID', 'season', 'DURATION']]\\\n",
    "              .groupby(['PLAYER_ID', 'season'], as_index=False)\\\n",
    "              .count().rename(columns={'DURATION': 'num_of_shifts'})"
   ]
  },
  {
   "cell_type": "code",
   "execution_count": 90,
   "metadata": {},
   "outputs": [
    {
     "data": {
      "text/html": [
       "<div>\n",
       "<style scoped>\n",
       "    .dataframe tbody tr th:only-of-type {\n",
       "        vertical-align: middle;\n",
       "    }\n",
       "\n",
       "    .dataframe tbody tr th {\n",
       "        vertical-align: top;\n",
       "    }\n",
       "\n",
       "    .dataframe thead th {\n",
       "        text-align: right;\n",
       "    }\n",
       "</style>\n",
       "<table border=\"1\" class=\"dataframe\">\n",
       "  <thead>\n",
       "    <tr style=\"text-align: right;\">\n",
       "      <th></th>\n",
       "      <th>PLAYER_ID</th>\n",
       "      <th>season</th>\n",
       "      <th>num_of_shifts</th>\n",
       "    </tr>\n",
       "  </thead>\n",
       "  <tbody>\n",
       "    <tr>\n",
       "      <th>0</th>\n",
       "      <td>8445550</td>\n",
       "      <td>2009</td>\n",
       "      <td>2772</td>\n",
       "    </tr>\n",
       "    <tr>\n",
       "      <th>1</th>\n",
       "      <td>8445735</td>\n",
       "      <td>2009</td>\n",
       "      <td>1506</td>\n",
       "    </tr>\n",
       "    <tr>\n",
       "      <th>2</th>\n",
       "      <td>8446053</td>\n",
       "      <td>2009</td>\n",
       "      <td>112</td>\n",
       "    </tr>\n",
       "    <tr>\n",
       "      <th>3</th>\n",
       "      <td>8446485</td>\n",
       "      <td>2009</td>\n",
       "      <td>1653</td>\n",
       "    </tr>\n",
       "    <tr>\n",
       "      <th>4</th>\n",
       "      <td>8446485</td>\n",
       "      <td>2010</td>\n",
       "      <td>956</td>\n",
       "    </tr>\n",
       "  </tbody>\n",
       "</table>\n",
       "</div>"
      ],
      "text/plain": [
       "   PLAYER_ID season  num_of_shifts\n",
       "0    8445550   2009           2772\n",
       "1    8445735   2009           1506\n",
       "2    8446053   2009            112\n",
       "3    8446485   2009           1653\n",
       "4    8446485   2010            956"
      ]
     },
     "execution_count": 90,
     "metadata": {},
     "output_type": "execute_result"
    }
   ],
   "source": [
    "shift_count.head()"
   ]
  },
  {
   "cell_type": "code",
   "execution_count": 110,
   "metadata": {},
   "outputs": [
    {
     "data": {
      "image/png": "[encoded data removed]",
      "text/plain": [
       "<Figure size 432x288 with 1 Axes>"
      ]
     },
     "metadata": {
      "needs_background": "light"
     },
     "output_type": "display_data"
    }
   ],
   "source": [
    "plt.hist(shift_count['num_of_shifts'], bins=55)\n",
    "plt.xlabel(\"num_of_shifts\")\n",
    "plt.ylabel(\"Count\")\n",
    "plt.title(\"Distribution of number of shifts a season\")\n",
    "plt.show()"
   ]
  },
  {
   "cell_type": "code",
   "execution_count": 102,
   "metadata": {},
   "outputs": [
    {
     "data": {
      "text/plain": [
       "966.4666666666667"
      ]
     },
     "execution_count": 102,
     "metadata": {},
     "output_type": "execute_result"
    }
   ],
   "source": [
    "shift_data[(shift_data.PLAYER_ID == 8475178) & (shift_data.season == '2019')].DURATION.sum()/60"
   ]
  },
  {
   "cell_type": "code",
   "execution_count": 98,
   "metadata": {},
   "outputs": [
    {
     "data": {
      "text/plain": [
       "2020030415"
      ]
     },
     "execution_count": 98,
     "metadata": {},
     "output_type": "execute_result"
    }
   ],
   "source": [
    "shift_data.GAME_ID.max()"
   ]
  },
  {
   "cell_type": "markdown",
   "metadata": {},
   "source": [
    "* Look at previous seasons goals correlation with current seasons shift count "
   ]
  },
  {
   "cell_type": "code",
   "execution_count": null,
   "metadata": {},
   "outputs": [],
   "source": []
  }
 ],
 "metadata": {
  "kernelspec": {
   "display_name": "nhl",
   "language": "python",
   "name": "nhl"
  },
  "language_info": {
   "codemirror_mode": {
    "name": "ipython",
    "version": 3
   },
   "file_extension": ".py",
   "mimetype": "text/x-python",
   "name": "python",
   "nbconvert_exporter": "python",
   "pygments_lexer": "ipython3",
   "version": "3.8.10"
  }
 },
 "nbformat": 4,
 "nbformat_minor": 4
}
