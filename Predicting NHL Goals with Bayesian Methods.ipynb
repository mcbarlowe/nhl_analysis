{
 "cells": [
  {
   "cell_type": "code",
   "execution_count": 1,
   "metadata": {},
   "outputs": [],
   "source": [
    "import pandas as pd\n",
    "import numpy as np\n",
    "import matplotlib.pyplot as plt\n",
    "\n",
    "pd.set_option('display.max_columns', None)\n",
    "pd.set_option('display.max_rows', None)"
   ]
  },
  {
   "cell_type": "code",
   "execution_count": 29,
   "metadata": {},
   "outputs": [],
   "source": [
    "#preparing gp data\n",
    "all_sits_goal_data = pd.read_csv('csv_files/all_sits_player_goal_data.csv')\n",
    "gp_df = all_sits_goal_data[['player', 'api_id', 'season_age', 'position', \n",
    "                            'position_type', 'team', 'season', 'session', \n",
    "                            'gp', 'toi']]\n",
    "\n",
    "#prepating shift/shift length data\n",
    "shift_data = pd.read_csv('large_files/player_shifts.csv')\n",
    "player_pos = pd.read_csv('csv_files/player_positions.csv')\n",
    "shift_data = shift_data.merge(player_pos, on='PLAYER_ID')\n",
    "shift_data = shift_data[shift_data['POS'] != 'G']\n",
    "shift_per_game_df = shift_data.groupby(['GAME_ID', 'PLAYER_ID', 'POS'])\\\n",
    "                    ['SHIFT_NUMBER'].max().reset_index()\n",
    "shift_per_game_df = shift_per_game_df.rename({'SHIFT_NUMBER': 'shifts_in_game'})\n",
    "\n",
    "#making all the column names lower case\n",
    "shift_data.columns = list(map(str.lower, shift_data.columns))\n",
    "player_pos.columns = list(map(str.lower, player_pos.columns))\n",
    "shift_per_game_df.columns = list(map(str.lower, shift_per_game_df.columns))\n",
    "gp_df.columns = list(map(str.lower, gp_df.columns))\n",
    "all_sits_goal_data.columns = list(map(str.lower, all_sits_goal_data.columns))\n",
    "\n",
    "#create a season column for shift data from game_id\n",
    "shift_data['season'] = shift_data['game_id'].astype(str).str.slice(stop=4).astype(int) + 1\n",
    "shift_per_game_df['season'] = shift_data['game_id'].astype(str).str.\\\n",
    "                              slice(stop=4).astype(int) + 1\n",
    "shift_data['season'] = (shift_data['season'] - 1).astype(str) + shift_data['season'].astype(str)\n",
    "shift_per_game_df['season'] = (shift_per_game_df['season'] - 1).astype(str) + \\\n",
    "                              shift_per_game_df['season'].astype(str)\n",
    "\n",
    "#create test/train sets\n",
    "train_gp_df = gp_df[gp_df['season'] != 20192020]\n",
    "test_gp_df = gp_df[gp_df['season'] == 20192020]\n",
    "train_shift_data = shift_data[shift_data['season'] != 20192020]\n",
    "test_shift_data = shift_data[shift_data['season'] == 20192020]\n",
    "train_shift_per_game_df = shift_data[shift_data['season'] != 20192020]\n",
    "test_shift_per_game_df = shift_data[shift_data['season'] == 20192020]"
   ]
  },
  {
   "cell_type": "code",
   "execution_count": 36,
   "metadata": {},
   "outputs": [
    {
     "data": {
      "text/html": [
       "<div>\n",
       "<style scoped>\n",
       "    .dataframe tbody tr th:only-of-type {\n",
       "        vertical-align: middle;\n",
       "    }\n",
       "\n",
       "    .dataframe tbody tr th {\n",
       "        vertical-align: top;\n",
       "    }\n",
       "\n",
       "    .dataframe thead th {\n",
       "        text-align: right;\n",
       "    }\n",
       "</style>\n",
       "<table border=\"1\" class=\"dataframe\">\n",
       "  <thead>\n",
       "    <tr style=\"text-align: right;\">\n",
       "      <th></th>\n",
       "      <th>player</th>\n",
       "      <th>api_id</th>\n",
       "      <th>season_age</th>\n",
       "      <th>position</th>\n",
       "      <th>position_type</th>\n",
       "      <th>team</th>\n",
       "      <th>season</th>\n",
       "      <th>session</th>\n",
       "      <th>gp</th>\n",
       "      <th>toi</th>\n",
       "    </tr>\n",
       "  </thead>\n",
       "  <tbody>\n",
       "    <tr>\n",
       "      <th>814</th>\n",
       "      <td>Sidney Crosby</td>\n",
       "      <td>8471675</td>\n",
       "      <td>20.0</td>\n",
       "      <td>C</td>\n",
       "      <td>F</td>\n",
       "      <td>PIT</td>\n",
       "      <td>20072008</td>\n",
       "      <td>R</td>\n",
       "      <td>53.0</td>\n",
       "      <td>1104.78</td>\n",
       "    </tr>\n",
       "    <tr>\n",
       "      <th>1755</th>\n",
       "      <td>Sidney Crosby</td>\n",
       "      <td>8471675</td>\n",
       "      <td>21.0</td>\n",
       "      <td>C</td>\n",
       "      <td>F</td>\n",
       "      <td>PIT</td>\n",
       "      <td>20082009</td>\n",
       "      <td>R</td>\n",
       "      <td>77.0</td>\n",
       "      <td>1690.08</td>\n",
       "    </tr>\n",
       "    <tr>\n",
       "      <th>2713</th>\n",
       "      <td>Sidney Crosby</td>\n",
       "      <td>8471675</td>\n",
       "      <td>22.0</td>\n",
       "      <td>C</td>\n",
       "      <td>F</td>\n",
       "      <td>PIT</td>\n",
       "      <td>20092010</td>\n",
       "      <td>R</td>\n",
       "      <td>80.0</td>\n",
       "      <td>1756.55</td>\n",
       "    </tr>\n",
       "    <tr>\n",
       "      <th>3680</th>\n",
       "      <td>Sidney Crosby</td>\n",
       "      <td>8471675</td>\n",
       "      <td>23.0</td>\n",
       "      <td>C</td>\n",
       "      <td>F</td>\n",
       "      <td>PIT</td>\n",
       "      <td>20102011</td>\n",
       "      <td>R</td>\n",
       "      <td>41.0</td>\n",
       "      <td>898.62</td>\n",
       "    </tr>\n",
       "    <tr>\n",
       "      <th>4639</th>\n",
       "      <td>Sidney Crosby</td>\n",
       "      <td>8471675</td>\n",
       "      <td>24.0</td>\n",
       "      <td>C</td>\n",
       "      <td>F</td>\n",
       "      <td>PIT</td>\n",
       "      <td>20112012</td>\n",
       "      <td>R</td>\n",
       "      <td>22.0</td>\n",
       "      <td>406.38</td>\n",
       "    </tr>\n",
       "  </tbody>\n",
       "</table>\n",
       "</div>"
      ],
      "text/plain": [
       "             player   api_id  season_age position position_type team  \\\n",
       "814   Sidney Crosby  8471675        20.0        C             F  PIT   \n",
       "1755  Sidney Crosby  8471675        21.0        C             F  PIT   \n",
       "2713  Sidney Crosby  8471675        22.0        C             F  PIT   \n",
       "3680  Sidney Crosby  8471675        23.0        C             F  PIT   \n",
       "4639  Sidney Crosby  8471675        24.0        C             F  PIT   \n",
       "\n",
       "        season session    gp      toi  \n",
       "814   20072008       R  53.0  1104.78  \n",
       "1755  20082009       R  77.0  1690.08  \n",
       "2713  20092010       R  80.0  1756.55  \n",
       "3680  20102011       R  41.0   898.62  \n",
       "4639  20112012       R  22.0   406.38  "
      ]
     },
     "execution_count": 36,
     "metadata": {},
     "output_type": "execute_result"
    }
   ],
   "source": [
    "crosby_df = train_gp_df[train_gp_df.player == 'Sidney Crosby']\n",
    "crosby_df.head()"
   ]
  },
  {
   "cell_type": "code",
   "execution_count": 38,
   "metadata": {},
   "outputs": [
    {
     "ename": "ValueError",
     "evalue": "Observed Bound distributions are not supported. If you want to model truncated data you can use a pm.Potential in combination with the cumulative probability function.",
     "output_type": "error",
     "traceback": [
      "\u001b[0;31m---------------------------------------------------------------------------\u001b[0m",
      "\u001b[0;31mValueError\u001b[0m                                Traceback (most recent call last)",
      "\u001b[0;32m<ipython-input-38-d736713414d6>\u001b[0m in \u001b[0;36m<module>\u001b[0;34m\u001b[0m\n\u001b[1;32m      7\u001b[0m     \u001b[0mgamma_prior\u001b[0m \u001b[0;34m=\u001b[0m \u001b[0mpm\u001b[0m\u001b[0;34m.\u001b[0m\u001b[0mGamma\u001b[0m\u001b[0;34m(\u001b[0m\u001b[0;34m\"prior\"\u001b[0m\u001b[0;34m,\u001b[0m \u001b[0malpha\u001b[0m\u001b[0;34m=\u001b[0m\u001b[0mprior_alpha\u001b[0m\u001b[0;34m,\u001b[0m \u001b[0mbeta\u001b[0m\u001b[0;34m=\u001b[0m\u001b[0mprior_beta\u001b[0m\u001b[0;34m)\u001b[0m\u001b[0;34m\u001b[0m\u001b[0;34m\u001b[0m\u001b[0m\n\u001b[1;32m      8\u001b[0m     \u001b[0mbounded_poisson\u001b[0m \u001b[0;34m=\u001b[0m \u001b[0mpm\u001b[0m\u001b[0;34m.\u001b[0m\u001b[0mBound\u001b[0m\u001b[0;34m(\u001b[0m\u001b[0mpm\u001b[0m\u001b[0;34m.\u001b[0m\u001b[0mPoisson\u001b[0m\u001b[0;34m,\u001b[0m \u001b[0mupper\u001b[0m\u001b[0;34m=\u001b[0m\u001b[0;36m82\u001b[0m\u001b[0;34m)\u001b[0m\u001b[0;34m\u001b[0m\u001b[0;34m\u001b[0m\u001b[0m\n\u001b[0;32m----> 9\u001b[0;31m     \u001b[0mobservation\u001b[0m \u001b[0;34m=\u001b[0m \u001b[0mbounded_poisson\u001b[0m\u001b[0;34m(\u001b[0m\u001b[0;34m\"likelihood\"\u001b[0m\u001b[0;34m,\u001b[0m \u001b[0mobserved\u001b[0m\u001b[0;34m=\u001b[0m\u001b[0mcrosby_df\u001b[0m\u001b[0;34m[\u001b[0m\u001b[0;34m'gp'\u001b[0m\u001b[0;34m]\u001b[0m\u001b[0;34m.\u001b[0m\u001b[0mvalues\u001b[0m\u001b[0;34m)\u001b[0m\u001b[0;34m\u001b[0m\u001b[0;34m\u001b[0m\u001b[0m\n\u001b[0m",
      "\u001b[0;32m~/.virtualenvs/nhl/lib/python3.8/site-packages/pymc3/distributions/bound.py\u001b[0m in \u001b[0;36m__call__\u001b[0;34m(self, name, *args, **kwargs)\u001b[0m\n\u001b[1;32m    284\u001b[0m     \u001b[0;32mdef\u001b[0m \u001b[0m__call__\u001b[0m\u001b[0;34m(\u001b[0m\u001b[0mself\u001b[0m\u001b[0;34m,\u001b[0m \u001b[0mname\u001b[0m\u001b[0;34m,\u001b[0m \u001b[0;34m*\u001b[0m\u001b[0margs\u001b[0m\u001b[0;34m,\u001b[0m \u001b[0;34m**\u001b[0m\u001b[0mkwargs\u001b[0m\u001b[0;34m)\u001b[0m\u001b[0;34m:\u001b[0m\u001b[0;34m\u001b[0m\u001b[0;34m\u001b[0m\u001b[0m\n\u001b[1;32m    285\u001b[0m         \u001b[0;32mif\u001b[0m \u001b[0;34m\"observed\"\u001b[0m \u001b[0;32min\u001b[0m \u001b[0mkwargs\u001b[0m\u001b[0;34m:\u001b[0m\u001b[0;34m\u001b[0m\u001b[0;34m\u001b[0m\u001b[0m\n\u001b[0;32m--> 286\u001b[0;31m             raise ValueError(\n\u001b[0m\u001b[1;32m    287\u001b[0m                 \u001b[0;34m\"Observed Bound distributions are not supported. \"\u001b[0m\u001b[0;34m\u001b[0m\u001b[0;34m\u001b[0m\u001b[0m\n\u001b[1;32m    288\u001b[0m                 \u001b[0;34m\"If you want to model truncated data \"\u001b[0m\u001b[0;34m\u001b[0m\u001b[0;34m\u001b[0m\u001b[0m\n",
      "\u001b[0;31mValueError\u001b[0m: Observed Bound distributions are not supported. If you want to model truncated data you can use a pm.Potential in combination with the cumulative probability function."
     ]
    }
   ],
   "source": [
    "import pymc3 as pm\n",
    "\n",
    "prior_alpha = 10\n",
    "prior_beta = .1666\n",
    "\n",
    "with pm.Model() as model:\n",
    "    lambda_prior = pm.Gamma(\"lambda_prior\", alpha=prior_alpha, beta=prior_beta)\n",
    "    switch_point = pm.DiscreteUniform('bounding', lower=0, upper=82)\n",
    "    \n",
    "    observation = bounded_poisson(\"likelihood\", observed=crosby_df['gp'].values)\n"
   ]
  },
  {
   "cell_type": "code",
   "execution_count": 25,
   "metadata": {},
   "outputs": [],
   "source": [
    "shift_data['season'] = shift_data['season'].astype(str) + (shift_data['season'] + 1).astype(str)\n",
    "shift_per_game_df['season'] = shift_per_game_df['season'].astype(str) + (shift_per_game_df['season'] + 1).astype(str)"
   ]
  },
  {
   "cell_type": "code",
   "execution_count": 16,
   "metadata": {},
   "outputs": [],
   "source": [
    "forwards_goal_data = all_sits_goal_data[all_sits_goal_data['position'] != 'D']\n",
    "defense_goal_data = all_sits_goal_data[all_sits_goal_data['position'] == 'D']"
   ]
  },
  {
   "cell_type": "code",
   "execution_count": 48,
   "metadata": {},
   "outputs": [
    {
     "name": "stdout",
     "output_type": "stream",
     "text": [
      "Forwards TOI summary stats\n",
      "count    8164.000000\n",
      "mean      671.720061\n",
      "std       512.604988\n",
      "min         1.430000\n",
      "25%       169.095000\n",
      "50%       625.665000\n",
      "75%      1113.372500\n",
      "max      1991.280000\n",
      "Name: toi, dtype: float64\n",
      "Defense TOI summary stats\n",
      "count    4243.000000\n",
      "mean      863.717226\n",
      "std       631.214286\n",
      "min         0.750000\n",
      "25%       257.620000\n",
      "50%       831.120000\n",
      "75%      1406.635000\n",
      "max      2411.950000\n",
      "Name: toi, dtype: float64\n"
     ]
    }
   ],
   "source": [
    "print(\"Forwards TOI summary stats\")\n",
    "print(forwards_goal_data['toi'].describe())\n",
    "print(\"Defense TOI summary stats\")\n",
    "print(defense_goal_data['toi'].describe())"
   ]
  },
  {
   "cell_type": "code",
   "execution_count": 49,
   "metadata": {},
   "outputs": [
    {
     "data": {
      "image/png": "[encoded data removed]",
      "text/plain": [
       "<Figure size 432x288 with 1 Axes>"
      ]
     },
     "metadata": {
      "needs_background": "light"
     },
     "output_type": "display_data"
    }
   ],
   "source": [
    "plt.hist(forwards_goal_data['toi'], bins=55)\n",
    "plt.xlabel(\"TOI\")\n",
    "plt.ylabel(\"Count\")\n",
    "plt.title(\"Distribution of TOI\")\n",
    "plt.show()"
   ]
  },
  {
   "cell_type": "code",
   "execution_count": 50,
   "metadata": {},
   "outputs": [
    {
     "data": {
      "image/png": "[encoded data removed]",
      "text/plain": [
       "<Figure size 432x288 with 1 Axes>"
      ]
     },
     "metadata": {
      "needs_background": "light"
     },
     "output_type": "display_data"
    }
   ],
   "source": [
    "plt.hist(defense_goal_data['toi'], bins=35)\n",
    "plt.xlabel(\"TOI\")\n",
    "plt.ylabel(\"Count\")\n",
    "plt.title(\"Distribution of TOI\")\n",
    "plt.show()"
   ]
  },
  {
   "cell_type": "markdown",
   "metadata": {},
   "source": [
    "My hypothesis is that goals and points is a funtion of TOI. So I need to accurately model TOI in order model goals. So my first step will being building a TOI distribution posterior with a likelihood and prior\n",
    "\n",
    "## Posible Distributions\n",
    "* Dagum distribution\n",
    "* exponential logarithmic distribution\n",
    "* pareto to model the tail drop off "
   ]
  },
  {
   "cell_type": "code",
   "execution_count": 51,
   "metadata": {},
   "outputs": [],
   "source": [
    "shift_data = pd.read_csv('matt.csv')\n",
    "shift_data['season'] = shift_data['GAME_ID'].astype(str).str.slice(stop=4)"
   ]
  },
  {
   "cell_type": "code",
   "execution_count": 103,
   "metadata": {},
   "outputs": [],
   "source": [
    "shift_data = shift_data[shift_data.DURATION < 200]"
   ]
  },
  {
   "cell_type": "code",
   "execution_count": 106,
   "metadata": {},
   "outputs": [
    {
     "data": {
      "image/png": "[encoded data removed]",
      "text/plain": [
       "<Figure size 432x288 with 1 Axes>"
      ]
     },
     "metadata": {
      "needs_background": "light"
     },
     "output_type": "display_data"
    }
   ],
   "source": [
    "plt.hist(shift_data[shift_data.PLAYER_ID == 8471675]['DURATION'], bins=55)\n",
    "plt.xlabel(\"shift duration\")\n",
    "plt.ylabel(\"Count\")\n",
    "plt.title(\"Distribution of shift duration\")\n",
    "plt.show()"
   ]
  },
  {
   "cell_type": "code",
   "execution_count": 108,
   "metadata": {},
   "outputs": [
    {
     "data": {
      "image/png": "[encoded data removed]",
      "text/plain": [
       "<Figure size 432x288 with 1 Axes>"
      ]
     },
     "metadata": {
      "needs_background": "light"
     },
     "output_type": "display_data"
    }
   ],
   "source": [
    "plt.hist(shift_data['DURATION'], bins=55)\n",
    "plt.xlabel(\"shift duration\")\n",
    "plt.ylabel(\"Count\")\n",
    "plt.title(\"Distribution of shift duration\")\n",
    "plt.show()"
   ]
  },
  {
   "cell_type": "code",
   "execution_count": 112,
   "metadata": {},
   "outputs": [
    {
     "name": "stdout",
     "output_type": "stream",
     "text": [
      "43.111989198204995\n",
      "42.193701644254034\n"
     ]
    }
   ],
   "source": [
    "print(shift_data[shift_data.PLAYER_ID == 8471675]['DURATION'].mean())\n",
    "print(shift_data['DURATION'].mean())"
   ]
  },
  {
   "cell_type": "code",
   "execution_count": 115,
   "metadata": {},
   "outputs": [],
   "source": [
    "shift_count = shift_data[['PLAYER_ID', 'season', 'GAME_ID', 'DURATION']]\\\n",
    "              .groupby(['PLAYER_ID', 'season', 'GAME_ID'], as_index=False)\\\n",
    "              .count().rename(columns={'DURATION': 'num_of_shifts'})"
   ]
  },
  {
   "cell_type": "code",
   "execution_count": 118,
   "metadata": {},
   "outputs": [
    {
     "data": {
      "text/plain": [
       "209"
      ]
     },
     "execution_count": 118,
     "metadata": {},
     "output_type": "execute_result"
    }
   ],
   "source": [
    "shift_count.num_of_shifts.max()"
   ]
  },
  {
   "cell_type": "code",
   "execution_count": 126,
   "metadata": {},
   "outputs": [
    {
     "data": {
      "image/png": "[encoded data removed]",
      "text/plain": [
       "<Figure size 432x288 with 1 Axes>"
      ]
     },
     "metadata": {
      "needs_background": "light"
     },
     "output_type": "display_data"
    }
   ],
   "source": [
    "plt.hist(shift_count[(shift_data.PLAYER_ID == 8475178) & (shift_count.num_of_shifts < 60)]['num_of_shifts'], bins=20)\n",
    "plt.xlabel(\"num_of_shifts\")\n",
    "plt.ylabel(\"Count\")\n",
    "plt.title(\"Distribution of number of shifts per game\")\n",
    "plt.show()"
   ]
  },
  {
   "cell_type": "code",
   "execution_count": 127,
   "metadata": {},
   "outputs": [
    {
     "name": "stderr",
     "output_type": "stream",
     "text": [
      "<ipython-input-127-0d2b47e1382b>:1: UserWarning: Boolean Series key will be reindexed to match DataFrame index.\n",
      "  plt.hist(shift_count[(shift_data.PLAYER_ID == 8475178) & (shift_count.num_of_shifts < 60)]['num_of_shifts'], bins=20)\n"
     ]
    },
    {
     "data": {
      "image/png": "[encoded data removed]",
      "text/plain": [
       "<Figure size 432x288 with 1 Axes>"
      ]
     },
     "metadata": {
      "needs_background": "light"
     },
     "output_type": "display_data"
    }
   ],
   "source": [
    "plt.hist(shift_count[(shift_data.PLAYER_ID == 8475178) & (shift_count.num_of_shifts < 60)]['num_of_shifts'], bins=20)\n",
    "plt.xlabel(\"num_of_shifts\")\n",
    "plt.ylabel(\"Count\")\n",
    "plt.title(\"Distribution of number of shifts per game\")\n",
    "plt.show()"
   ]
  },
  {
   "cell_type": "code",
   "execution_count": 122,
   "metadata": {},
   "outputs": [
    {
     "name": "stderr",
     "output_type": "stream",
     "text": [
      "<ipython-input-122-6b30910bd6a3>:1: UserWarning: Boolean Series key will be reindexed to match DataFrame index.\n",
      "  print(shift_count[(shift_data.PLAYER_ID == 8475178) & (shift_count.num_of_shifts < 60)]['num_of_shifts'].mean())\n"
     ]
    },
    {
     "name": "stdout",
     "output_type": "stream",
     "text": [
      "25.126903553299492\n",
      "23.30448387039941\n"
     ]
    }
   ],
   "source": [
    "print(shift_count[(shift_data.PLAYER_ID == 8475178) & (shift_count.num_of_shifts < 60)]['num_of_shifts'].mean())\n",
    "print(shift_count[(shift_count.num_of_shifts < 60)]['num_of_shifts'].mean())"
   ]
  },
  {
   "cell_type": "code",
   "execution_count": 102,
   "metadata": {},
   "outputs": [
    {
     "data": {
      "text/plain": [
       "966.4666666666667"
      ]
     },
     "execution_count": 102,
     "metadata": {},
     "output_type": "execute_result"
    }
   ],
   "source": [
    "shift_data[(shift_data.PLAYER_ID == 8475178) & (shift_data.season == '2019')].DURATION.sum()/60"
   ]
  },
  {
   "cell_type": "code",
   "execution_count": 98,
   "metadata": {},
   "outputs": [
    {
     "data": {
      "text/plain": [
       "2020030415"
      ]
     },
     "execution_count": 98,
     "metadata": {},
     "output_type": "execute_result"
    }
   ],
   "source": [
    "shift_data.GAME_ID.max()"
   ]
  },
  {
   "cell_type": "markdown",
   "metadata": {},
   "source": [
    "* Look at previous seasons goals correlation with current seasons shift count \n",
    "* for forwards previous season points and toi correlates decently with next season TOI\n",
    "* for defense only really previous TOI maybe check plus minus\n",
    "\n",
    "# Predicting Games Played\n",
    "* GP is a poisson distribution with a truncated gamma conjugate prior and a negative binomial posterior predictive. The initial prior will be the gamma parameters that give an E[X] of 60 games.\n"
   ]
  },
  {
   "cell_type": "code",
   "execution_count": 130,
   "metadata": {},
   "outputs": [
    {
     "data": {
      "text/html": [
       "<div>\n",
       "<style scoped>\n",
       "    .dataframe tbody tr th:only-of-type {\n",
       "        vertical-align: middle;\n",
       "    }\n",
       "\n",
       "    .dataframe tbody tr th {\n",
       "        vertical-align: top;\n",
       "    }\n",
       "\n",
       "    .dataframe thead th {\n",
       "        text-align: right;\n",
       "    }\n",
       "</style>\n",
       "<table border=\"1\" class=\"dataframe\">\n",
       "  <thead>\n",
       "    <tr style=\"text-align: right;\">\n",
       "      <th></th>\n",
       "      <th>player</th>\n",
       "      <th>player_upper</th>\n",
       "      <th>api_id</th>\n",
       "      <th>birthday</th>\n",
       "      <th>season_age</th>\n",
       "      <th>position</th>\n",
       "      <th>position_type</th>\n",
       "      <th>shoots</th>\n",
       "      <th>team</th>\n",
       "      <th>season</th>\n",
       "      <th>session</th>\n",
       "      <th>gp</th>\n",
       "      <th>toi</th>\n",
       "      <th>toi_gp</th>\n",
       "      <th>toi_perc</th>\n",
       "      <th>g</th>\n",
       "      <th>a1</th>\n",
       "      <th>a2</th>\n",
       "      <th>points</th>\n",
       "      <th>isf</th>\n",
       "      <th>iff</th>\n",
       "      <th>icf</th>\n",
       "    </tr>\n",
       "  </thead>\n",
       "  <tbody>\n",
       "    <tr>\n",
       "      <th>814</th>\n",
       "      <td>Sidney Crosby</td>\n",
       "      <td>SIDNEY.CROSBY</td>\n",
       "      <td>8471675</td>\n",
       "      <td>1987-08-07</td>\n",
       "      <td>20.0</td>\n",
       "      <td>C</td>\n",
       "      <td>F</td>\n",
       "      <td>L</td>\n",
       "      <td>PIT</td>\n",
       "      <td>20072008</td>\n",
       "      <td>R</td>\n",
       "      <td>53.0</td>\n",
       "      <td>1104.78</td>\n",
       "      <td>20.84</td>\n",
       "      <td>34.26</td>\n",
       "      <td>24.0</td>\n",
       "      <td>33.0</td>\n",
       "      <td>15.0</td>\n",
       "      <td>72.0</td>\n",
       "      <td>173.0</td>\n",
       "      <td>233.0</td>\n",
       "      <td>280.0</td>\n",
       "    </tr>\n",
       "    <tr>\n",
       "      <th>1755</th>\n",
       "      <td>Sidney Crosby</td>\n",
       "      <td>SIDNEY.CROSBY</td>\n",
       "      <td>8471675</td>\n",
       "      <td>1987-08-07</td>\n",
       "      <td>21.0</td>\n",
       "      <td>C</td>\n",
       "      <td>F</td>\n",
       "      <td>L</td>\n",
       "      <td>PIT</td>\n",
       "      <td>20082009</td>\n",
       "      <td>R</td>\n",
       "      <td>77.0</td>\n",
       "      <td>1690.08</td>\n",
       "      <td>21.95</td>\n",
       "      <td>35.90</td>\n",
       "      <td>33.0</td>\n",
       "      <td>51.0</td>\n",
       "      <td>19.0</td>\n",
       "      <td>103.0</td>\n",
       "      <td>238.0</td>\n",
       "      <td>319.0</td>\n",
       "      <td>388.0</td>\n",
       "    </tr>\n",
       "    <tr>\n",
       "      <th>2713</th>\n",
       "      <td>Sidney Crosby</td>\n",
       "      <td>SIDNEY.CROSBY</td>\n",
       "      <td>8471675</td>\n",
       "      <td>1987-08-07</td>\n",
       "      <td>22.0</td>\n",
       "      <td>C</td>\n",
       "      <td>F</td>\n",
       "      <td>L</td>\n",
       "      <td>PIT</td>\n",
       "      <td>20092010</td>\n",
       "      <td>R</td>\n",
       "      <td>80.0</td>\n",
       "      <td>1756.55</td>\n",
       "      <td>21.96</td>\n",
       "      <td>36.07</td>\n",
       "      <td>51.0</td>\n",
       "      <td>36.0</td>\n",
       "      <td>22.0</td>\n",
       "      <td>109.0</td>\n",
       "      <td>291.0</td>\n",
       "      <td>393.0</td>\n",
       "      <td>490.0</td>\n",
       "    </tr>\n",
       "    <tr>\n",
       "      <th>3680</th>\n",
       "      <td>Sidney Crosby</td>\n",
       "      <td>SIDNEY.CROSBY</td>\n",
       "      <td>8471675</td>\n",
       "      <td>1987-08-07</td>\n",
       "      <td>23.0</td>\n",
       "      <td>C</td>\n",
       "      <td>F</td>\n",
       "      <td>L</td>\n",
       "      <td>PIT</td>\n",
       "      <td>20102011</td>\n",
       "      <td>R</td>\n",
       "      <td>41.0</td>\n",
       "      <td>898.62</td>\n",
       "      <td>21.92</td>\n",
       "      <td>36.09</td>\n",
       "      <td>32.0</td>\n",
       "      <td>20.0</td>\n",
       "      <td>14.0</td>\n",
       "      <td>66.0</td>\n",
       "      <td>161.0</td>\n",
       "      <td>219.0</td>\n",
       "      <td>278.0</td>\n",
       "    </tr>\n",
       "    <tr>\n",
       "      <th>4639</th>\n",
       "      <td>Sidney Crosby</td>\n",
       "      <td>SIDNEY.CROSBY</td>\n",
       "      <td>8471675</td>\n",
       "      <td>1987-08-07</td>\n",
       "      <td>24.0</td>\n",
       "      <td>C</td>\n",
       "      <td>F</td>\n",
       "      <td>L</td>\n",
       "      <td>PIT</td>\n",
       "      <td>20112012</td>\n",
       "      <td>R</td>\n",
       "      <td>22.0</td>\n",
       "      <td>406.38</td>\n",
       "      <td>18.47</td>\n",
       "      <td>30.53</td>\n",
       "      <td>8.0</td>\n",
       "      <td>16.0</td>\n",
       "      <td>13.0</td>\n",
       "      <td>37.0</td>\n",
       "      <td>75.0</td>\n",
       "      <td>97.0</td>\n",
       "      <td>126.0</td>\n",
       "    </tr>\n",
       "    <tr>\n",
       "      <th>5545</th>\n",
       "      <td>Sidney Crosby</td>\n",
       "      <td>SIDNEY.CROSBY</td>\n",
       "      <td>8471675</td>\n",
       "      <td>1987-08-07</td>\n",
       "      <td>25.0</td>\n",
       "      <td>C</td>\n",
       "      <td>F</td>\n",
       "      <td>L</td>\n",
       "      <td>PIT</td>\n",
       "      <td>20122013</td>\n",
       "      <td>R</td>\n",
       "      <td>36.0</td>\n",
       "      <td>759.75</td>\n",
       "      <td>21.10</td>\n",
       "      <td>34.96</td>\n",
       "      <td>15.0</td>\n",
       "      <td>28.0</td>\n",
       "      <td>13.0</td>\n",
       "      <td>56.0</td>\n",
       "      <td>124.0</td>\n",
       "      <td>168.0</td>\n",
       "      <td>203.0</td>\n",
       "    </tr>\n",
       "    <tr>\n",
       "      <th>6487</th>\n",
       "      <td>Sidney Crosby</td>\n",
       "      <td>SIDNEY.CROSBY</td>\n",
       "      <td>8471675</td>\n",
       "      <td>1987-08-07</td>\n",
       "      <td>26.0</td>\n",
       "      <td>C</td>\n",
       "      <td>F</td>\n",
       "      <td>L</td>\n",
       "      <td>PIT</td>\n",
       "      <td>20132014</td>\n",
       "      <td>R</td>\n",
       "      <td>80.0</td>\n",
       "      <td>1757.78</td>\n",
       "      <td>21.97</td>\n",
       "      <td>36.19</td>\n",
       "      <td>36.0</td>\n",
       "      <td>34.0</td>\n",
       "      <td>34.0</td>\n",
       "      <td>104.0</td>\n",
       "      <td>259.0</td>\n",
       "      <td>344.0</td>\n",
       "      <td>421.0</td>\n",
       "    </tr>\n",
       "    <tr>\n",
       "      <th>7442</th>\n",
       "      <td>Sidney Crosby</td>\n",
       "      <td>SIDNEY.CROSBY</td>\n",
       "      <td>8471675</td>\n",
       "      <td>1987-08-07</td>\n",
       "      <td>27.0</td>\n",
       "      <td>C</td>\n",
       "      <td>F</td>\n",
       "      <td>L</td>\n",
       "      <td>PIT</td>\n",
       "      <td>20142015</td>\n",
       "      <td>R</td>\n",
       "      <td>77.0</td>\n",
       "      <td>1538.37</td>\n",
       "      <td>19.98</td>\n",
       "      <td>32.76</td>\n",
       "      <td>28.0</td>\n",
       "      <td>31.0</td>\n",
       "      <td>25.0</td>\n",
       "      <td>84.0</td>\n",
       "      <td>237.0</td>\n",
       "      <td>315.0</td>\n",
       "      <td>380.0</td>\n",
       "    </tr>\n",
       "    <tr>\n",
       "      <th>8419</th>\n",
       "      <td>Sidney Crosby</td>\n",
       "      <td>SIDNEY.CROSBY</td>\n",
       "      <td>8471675</td>\n",
       "      <td>1987-08-07</td>\n",
       "      <td>28.0</td>\n",
       "      <td>C</td>\n",
       "      <td>F</td>\n",
       "      <td>L</td>\n",
       "      <td>PIT</td>\n",
       "      <td>20152016</td>\n",
       "      <td>R</td>\n",
       "      <td>80.0</td>\n",
       "      <td>1637.55</td>\n",
       "      <td>20.47</td>\n",
       "      <td>33.66</td>\n",
       "      <td>36.0</td>\n",
       "      <td>28.0</td>\n",
       "      <td>21.0</td>\n",
       "      <td>85.0</td>\n",
       "      <td>248.0</td>\n",
       "      <td>342.0</td>\n",
       "      <td>446.0</td>\n",
       "    </tr>\n",
       "    <tr>\n",
       "      <th>9368</th>\n",
       "      <td>Sidney Crosby</td>\n",
       "      <td>SIDNEY.CROSBY</td>\n",
       "      <td>8471675</td>\n",
       "      <td>1987-08-07</td>\n",
       "      <td>29.0</td>\n",
       "      <td>C</td>\n",
       "      <td>F</td>\n",
       "      <td>L</td>\n",
       "      <td>PIT</td>\n",
       "      <td>20162017</td>\n",
       "      <td>R</td>\n",
       "      <td>75.0</td>\n",
       "      <td>1490.83</td>\n",
       "      <td>19.88</td>\n",
       "      <td>32.66</td>\n",
       "      <td>44.0</td>\n",
       "      <td>28.0</td>\n",
       "      <td>17.0</td>\n",
       "      <td>89.0</td>\n",
       "      <td>255.0</td>\n",
       "      <td>325.0</td>\n",
       "      <td>411.0</td>\n",
       "    </tr>\n",
       "    <tr>\n",
       "      <th>10328</th>\n",
       "      <td>Sidney Crosby</td>\n",
       "      <td>SIDNEY.CROSBY</td>\n",
       "      <td>8471675</td>\n",
       "      <td>1987-08-07</td>\n",
       "      <td>30.0</td>\n",
       "      <td>C</td>\n",
       "      <td>F</td>\n",
       "      <td>L</td>\n",
       "      <td>PIT</td>\n",
       "      <td>20172018</td>\n",
       "      <td>R</td>\n",
       "      <td>82.0</td>\n",
       "      <td>1696.52</td>\n",
       "      <td>20.69</td>\n",
       "      <td>34.16</td>\n",
       "      <td>29.0</td>\n",
       "      <td>33.0</td>\n",
       "      <td>27.0</td>\n",
       "      <td>89.0</td>\n",
       "      <td>247.0</td>\n",
       "      <td>341.0</td>\n",
       "      <td>412.0</td>\n",
       "    </tr>\n",
       "    <tr>\n",
       "      <th>11330</th>\n",
       "      <td>Sidney Crosby</td>\n",
       "      <td>SIDNEY.CROSBY</td>\n",
       "      <td>8471675</td>\n",
       "      <td>1987-08-07</td>\n",
       "      <td>31.0</td>\n",
       "      <td>C</td>\n",
       "      <td>F</td>\n",
       "      <td>L</td>\n",
       "      <td>PIT</td>\n",
       "      <td>20182019</td>\n",
       "      <td>R</td>\n",
       "      <td>79.0</td>\n",
       "      <td>1658.35</td>\n",
       "      <td>20.99</td>\n",
       "      <td>34.54</td>\n",
       "      <td>35.0</td>\n",
       "      <td>49.0</td>\n",
       "      <td>16.0</td>\n",
       "      <td>100.0</td>\n",
       "      <td>220.0</td>\n",
       "      <td>290.0</td>\n",
       "      <td>348.0</td>\n",
       "    </tr>\n",
       "    <tr>\n",
       "      <th>12274</th>\n",
       "      <td>Sidney Crosby</td>\n",
       "      <td>SIDNEY.CROSBY</td>\n",
       "      <td>8471675</td>\n",
       "      <td>1987-08-07</td>\n",
       "      <td>32.0</td>\n",
       "      <td>C</td>\n",
       "      <td>F</td>\n",
       "      <td>L</td>\n",
       "      <td>PIT</td>\n",
       "      <td>20192020</td>\n",
       "      <td>R</td>\n",
       "      <td>41.0</td>\n",
       "      <td>830.13</td>\n",
       "      <td>20.25</td>\n",
       "      <td>33.47</td>\n",
       "      <td>16.0</td>\n",
       "      <td>20.0</td>\n",
       "      <td>11.0</td>\n",
       "      <td>47.0</td>\n",
       "      <td>109.0</td>\n",
       "      <td>143.0</td>\n",
       "      <td>163.0</td>\n",
       "    </tr>\n",
       "  </tbody>\n",
       "</table>\n",
       "</div>"
      ],
      "text/plain": [
       "              player   player_upper   api_id    birthday  season_age position  \\\n",
       "814    Sidney Crosby  SIDNEY.CROSBY  8471675  1987-08-07        20.0        C   \n",
       "1755   Sidney Crosby  SIDNEY.CROSBY  8471675  1987-08-07        21.0        C   \n",
       "2713   Sidney Crosby  SIDNEY.CROSBY  8471675  1987-08-07        22.0        C   \n",
       "3680   Sidney Crosby  SIDNEY.CROSBY  8471675  1987-08-07        23.0        C   \n",
       "4639   Sidney Crosby  SIDNEY.CROSBY  8471675  1987-08-07        24.0        C   \n",
       "5545   Sidney Crosby  SIDNEY.CROSBY  8471675  1987-08-07        25.0        C   \n",
       "6487   Sidney Crosby  SIDNEY.CROSBY  8471675  1987-08-07        26.0        C   \n",
       "7442   Sidney Crosby  SIDNEY.CROSBY  8471675  1987-08-07        27.0        C   \n",
       "8419   Sidney Crosby  SIDNEY.CROSBY  8471675  1987-08-07        28.0        C   \n",
       "9368   Sidney Crosby  SIDNEY.CROSBY  8471675  1987-08-07        29.0        C   \n",
       "10328  Sidney Crosby  SIDNEY.CROSBY  8471675  1987-08-07        30.0        C   \n",
       "11330  Sidney Crosby  SIDNEY.CROSBY  8471675  1987-08-07        31.0        C   \n",
       "12274  Sidney Crosby  SIDNEY.CROSBY  8471675  1987-08-07        32.0        C   \n",
       "\n",
       "      position_type shoots team    season session    gp      toi  toi_gp  \\\n",
       "814               F      L  PIT  20072008       R  53.0  1104.78   20.84   \n",
       "1755              F      L  PIT  20082009       R  77.0  1690.08   21.95   \n",
       "2713              F      L  PIT  20092010       R  80.0  1756.55   21.96   \n",
       "3680              F      L  PIT  20102011       R  41.0   898.62   21.92   \n",
       "4639              F      L  PIT  20112012       R  22.0   406.38   18.47   \n",
       "5545              F      L  PIT  20122013       R  36.0   759.75   21.10   \n",
       "6487              F      L  PIT  20132014       R  80.0  1757.78   21.97   \n",
       "7442              F      L  PIT  20142015       R  77.0  1538.37   19.98   \n",
       "8419              F      L  PIT  20152016       R  80.0  1637.55   20.47   \n",
       "9368              F      L  PIT  20162017       R  75.0  1490.83   19.88   \n",
       "10328             F      L  PIT  20172018       R  82.0  1696.52   20.69   \n",
       "11330             F      L  PIT  20182019       R  79.0  1658.35   20.99   \n",
       "12274             F      L  PIT  20192020       R  41.0   830.13   20.25   \n",
       "\n",
       "       toi_perc     g    a1    a2  points    isf    iff    icf  \n",
       "814       34.26  24.0  33.0  15.0    72.0  173.0  233.0  280.0  \n",
       "1755      35.90  33.0  51.0  19.0   103.0  238.0  319.0  388.0  \n",
       "2713      36.07  51.0  36.0  22.0   109.0  291.0  393.0  490.0  \n",
       "3680      36.09  32.0  20.0  14.0    66.0  161.0  219.0  278.0  \n",
       "4639      30.53   8.0  16.0  13.0    37.0   75.0   97.0  126.0  \n",
       "5545      34.96  15.0  28.0  13.0    56.0  124.0  168.0  203.0  \n",
       "6487      36.19  36.0  34.0  34.0   104.0  259.0  344.0  421.0  \n",
       "7442      32.76  28.0  31.0  25.0    84.0  237.0  315.0  380.0  \n",
       "8419      33.66  36.0  28.0  21.0    85.0  248.0  342.0  446.0  \n",
       "9368      32.66  44.0  28.0  17.0    89.0  255.0  325.0  411.0  \n",
       "10328     34.16  29.0  33.0  27.0    89.0  247.0  341.0  412.0  \n",
       "11330     34.54  35.0  49.0  16.0   100.0  220.0  290.0  348.0  \n",
       "12274     33.47  16.0  20.0  11.0    47.0  109.0  143.0  163.0  "
      ]
     },
     "execution_count": 130,
     "metadata": {},
     "output_type": "execute_result"
    }
   ],
   "source": [
    "sidney_df = all_sits_goal_data[all_sits_goal_data.player_upper == 'SIDNEY.CROSBY']\n",
    "sidney_df.sort_values('season')"
   ]
  },
  {
   "cell_type": "code",
   "execution_count": 135,
   "metadata": {},
   "outputs": [],
   "source": [
    "prior_alpha = 10\n",
    "prior_beta = .1666\n",
    "\n",
    "posterior_predictive_sample = np.random.negative_binomial(prior_alpha + 53, 1/(1 + (prior_beta + 1)), size=1000)"
   ]
  },
  {
   "cell_type": "code",
   "execution_count": 137,
   "metadata": {},
   "outputs": [
    {
     "data": {
      "image/png": "[encoded data removed]",
      "text/plain": [
       "<Figure size 432x288 with 1 Axes>"
      ]
     },
     "metadata": {
      "needs_background": "light"
     },
     "output_type": "display_data"
    }
   ],
   "source": [
    "plt.hist(posterior_predictive_sample, bins=55)\n",
    "plt.show()"
   ]
  },
  {
   "cell_type": "code",
   "execution_count": 134,
   "metadata": {},
   "outputs": [
    {
     "name": "stdout",
     "output_type": "stream",
     "text": [
      "[310.80000003]\n"
     ]
    }
   ],
   "source": [
    "test = np.empty(1)\n",
    "print(test)"
   ]
  },
  {
   "cell_type": "code",
   "execution_count": null,
   "metadata": {},
   "outputs": [],
   "source": [
    "games_played_samples = []\n",
    "\n",
    "for parameter in posterior_sample:\n",
    "    gp_samples = np.random.negative_binomial(parameter, size=1000)\n",
    "    games_played_samples.append(gp_samples)"
   ]
  }
 ],
 "metadata": {
  "kernelspec": {
   "display_name": "nhl",
   "language": "python",
   "name": "nhl"
  },
  "language_info": {
   "codemirror_mode": {
    "name": "ipython",
    "version": 3
   },
   "file_extension": ".py",
   "mimetype": "text/x-python",
   "name": "python",
   "nbconvert_exporter": "python",
   "pygments_lexer": "ipython3",
   "version": "3.8.10"
  }
 },
 "nbformat": 4,
 "nbformat_minor": 4
}
