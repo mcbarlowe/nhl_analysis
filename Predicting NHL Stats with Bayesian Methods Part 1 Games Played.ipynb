{
 "cells": [
  {
   "cell_type": "code",
   "execution_count": 117,
   "id": "2808a4ea",
   "metadata": {},
   "outputs": [],
   "source": [
    "import pandas as pd\n",
    "import numpy as np\n",
    "import matplotlib.pyplot as plt\n",
    "from scipy.stats import beta, betabinom\n",
    "from sklearn.metrics import r2_score, mean_absolute_error, mean_squared_error\n",
    "\n",
    "pd.set_option('display.max_columns', None)\n",
    "pd.set_option('display.max_rows', None)\n",
    "\n",
    "#preparing gp data\n",
    "all_sits_goal_data = pd.read_csv('csv_files/all_sits_player_goal_data.csv')\n",
    "gp_df = all_sits_goal_data[['player', 'api_id', 'season_age', 'position', \n",
    "                            'position_type', 'team', 'season', 'session', \n",
    "                            'gp', 'toi']]\n",
    "\n",
    "gp_df = gp_df.groupby(['player', 'api_id', 'season_age', 'position', \n",
    "                       'position_type', 'season', 'session', 'team'])[['gp', 'toi']].sum().reset_index()\n",
    "\n",
    "#get max possible games a player can play in a given season. It varies based on lockouts and\n",
    "#the covid seasons\n",
    "covid_season = gp_df[gp_df.season == 20192020].groupby(['team', 'season'])['gp'].max().reset_index()\n",
    "gp_df = gp_df.merge(covid_season, how='left', on=['team', 'season'], suffixes=(None, '_y'))\n",
    "gp_df = gp_df.rename(columns = {'gp_y': 'possible_gp'})\n",
    "gp_df['possible_gp'] = np.where(gp_df['possible_gp'].isna(), \n",
    "                                np.where(gp_df['season'] == 20122013, 48, 82), \n",
    "                                gp_df['possible_gp'])"
   ]
  },
  {
   "cell_type": "markdown",
   "id": "c0a3a190",
   "metadata": {},
   "source": [
    "# Games Played Distributions\n",
    "\n",
    "We're going to use the Binomial Distribution to model how many games a player plays in a season. The binomial takes \n",
    "two parameters $ n $ and $ p $. $ n $ is the number of trials we are looking for, in this case will be 82 since that's the number of games in the NHL regular season. While $ p $ is the probability of a player playing in each game. \n",
    "\n",
    "I picked the Beta Distribution as the prior for the distribution of $ p $ for the main reason that it is the conjugate prior of the Binomial Distribution. This makes the math much simpler and allows us to easily update our prior into a posterior distribution by simply adding the number of trials and sucesses to the parameters of our Beta prior.\n",
    "\n",
    "Here is the formula for the Beta posterior:\n",
    "\n",
    "$ \\alpha + x $\n",
    "\n",
    "$ \\beta + N - x$\n",
    "\n",
    "$ x $ is the number of successes and $ N $ is the number of trials. For the initial prior parameters we'll choose an $ \\alpha $ and $ \\beta $ that produces an expected value of the probability of playing 66 games a season which I think is reasonable for an average roster player on an NHL team. This means I will set $ \\alpha = 66 $ and $ \\beta = 16 $\n",
    "\n",
    "\n"
   ]
  },
  {
   "cell_type": "code",
   "execution_count": 8,
   "id": "b85eecff",
   "metadata": {},
   "outputs": [
    {
     "data": {
      "image/png": "[encoded data removed]",
      "text/plain": [
       "<Figure size 432x288 with 1 Axes>"
      ]
     },
     "metadata": {
      "needs_background": "light"
     },
     "output_type": "display_data"
    }
   ],
   "source": [
    "# Showing the distribution of our initial prior beta distribution\n",
    "r = beta.rvs(66, 16, size=1000)\n",
    "plt.hist(r, density=True, histtype='stepfilled', bins=30)\n",
    "plt.xlabel(\"Prior Distribution of Probability Player Plays in Game\")\n",
    "plt.show()"
   ]
  },
  {
   "cell_type": "markdown",
   "id": "ec276eac",
   "metadata": {},
   "source": [
    "# Modeling Process\n",
    "\n",
    "For this im going to use the prior to predict a players first season of GP in the data. From there I will then add the evidence of that first season to the prior to get posterior parameters for the distribution of the probability a player plays in any one game. I will then take those parameters and use them in the posterior predictive distribution (in this case the Beta Binomial distribution) to predict a point estimate and a sample. From the point distribution I will compare the prediction and the true value with metrics such as $ {R}^{2} $ and Root Mean Squared Error. I will also look at the distributions and create 95% Credible Intervals and see if the true values fall within the predicted Credible Intervals 95% of the time. **Note to self look up better ways to test bayesian predictions**\n",
    "\n",
    "Im also not going to use the entire dataset of evidence for each player. I feel that seasons from before two seasons past are really impactful in predicting whether a player so i won't include them in the calculations of updated posteriors which will only include the current season and the past two to predcit the next."
   ]
  },
  {
   "cell_type": "code",
   "execution_count": 103,
   "id": "0c472726",
   "metadata": {},
   "outputs": [],
   "source": [
    "# get data to do predictions\n",
    "players = list(gp_df.api_id.unique())\n",
    "seasons = list(gp_df.season.sort_values().unique())\n",
    "# list where I'll store predictions and posterior parameter values \n",
    "predictions = []\n",
    "\n"
   ]
  },
  {
   "cell_type": "code",
   "execution_count": 139,
   "id": "4577a81f",
   "metadata": {},
   "outputs": [],
   "source": [
    "groups = []\n",
    "grouped_df = gp_df.groupby(['api_id'])\n",
    "prior_alpha = 66\n",
    "prior_beta = 16\n",
    "for name, group in grouped_df:\n",
    "    group['gp_cum_sum_3'] = group['gp'].rolling(2, min_periods=1).sum()\n",
    "    group['possible_gp_cum_sum_3'] = group['possible_gp'].rolling(2, min_periods=1).sum()\n",
    "    #group['gp_cum_sum_3'] = group['gp'].cumsum()\n",
    "    #group['possible_gp_cum_sum_3'] = group['possible_gp'].cumsum()\n",
    "    group['posterior_alpha'] = group['gp_cum_sum_3'] + prior_alpha\n",
    "    group['posterior_beta'] = group['possible_gp_cum_sum_3'] - group['gp_cum_sum_3'] + prior_beta\n",
    "    group['posterior_alpha'] = group.posterior_alpha.shift(1)\n",
    "    group['posterior_beta'] = group.posterior_beta.shift(1)\n",
    "    #group['posterior_alpha'] = group.posterior_alpha.fillna(66)\n",
    "    #group['posterior_beta'] = group.posterior_beta.fillna(16)\n",
    "    point_predictions = []\n",
    "    prediction_samples = []\n",
    "    for row_index, row in group.iterrows():\n",
    "        if pd.isna(row['posterior_alpha']):\n",
    "            point_predictions.append(np.nan)\n",
    "            prediction_samples.append(np.nan)\n",
    "            continue\n",
    "        point_predictions.append(betabinom.rvs(int(row['possible_gp']), row['posterior_alpha'], \n",
    "                                               row['posterior_beta'], size=1000).mean())\n",
    "        prediction_samples.append(betabinom.rvs(int(row['possible_gp']), row['posterior_alpha'], \n",
    "                                               row['posterior_beta'], size=1000))\n",
    "    \n",
    "    group['point_prediction'] = point_predictions\n",
    "    group['prediction_samples'] = prediction_samples\n",
    "    groups.append(group)\n",
    "new_grouped_df = pd.concat(groups)\n",
    "df = new_grouped_df.dropna()\n",
    "#df[df.api_id == 8471675].head(20)"
   ]
  },
  {
   "cell_type": "markdown",
   "id": "3e033c7e",
   "metadata": {},
   "source": [
    "# Evaluating the model\n",
    "\n",
    "Evaluating a Bayesian model is different than evaluating a frequentist model. Traditional metrics like RMSE or $ R^{2} $ can't be used because a Bayesian model isn't really predicting a point estimate but rather a distribution."
   ]
  },
  {
   "cell_type": "code",
   "execution_count": 140,
   "id": "0ee71fae",
   "metadata": {},
   "outputs": [
    {
     "data": {
      "image/png": "[encoded data removed]",
      "text/plain": [
       "<Figure size 432x288 with 1 Axes>"
      ]
     },
     "metadata": {
      "needs_background": "light"
     },
     "output_type": "display_data"
    }
   ],
   "source": [
    "#alpha 66 beta 16\n",
    "#plt.scatter(predictions_df['actual'], predictions_df['predicted'])\n",
    "plt.hist(df['gp'], bins=25)\n",
    "plt.hist(df['point_prediction'], bins=25, alpha=.4)\n",
    "#plt.title(\"Alpha 64 beta 18\")\n",
    "plt.show()"
   ]
  },
  {
   "cell_type": "code",
   "execution_count": 141,
   "id": "743b5211",
   "metadata": {},
   "outputs": [
    {
     "data": {
      "image/png": "[encoded data removed]",
      "text/plain": [
       "<Figure size 432x288 with 1 Axes>"
      ]
     },
     "metadata": {
      "needs_background": "light"
     },
     "output_type": "display_data"
    }
   ],
   "source": [
    "crosby = df[df.api_id == 8471675].head(20)\n",
    "\n",
    "plt.hist(crosby[crosby.season == 20122013]['prediction_samples'], bins=20)\n",
    "plt.show()"
   ]
  },
  {
   "cell_type": "markdown",
   "id": "1b7e6c2e",
   "metadata": {},
   "source": []
  },
  {
   "cell_type": "code",
   "execution_count": null,
   "id": "b62ae648",
   "metadata": {},
   "outputs": [],
   "source": [
    "\n",
    "for player in players:\n",
    "    if player == 8471675:\n",
    "        print(\"crosby\")\n",
    "    player_df = train_gp_df[train_gp_df.api_id == player]\n",
    "    if player_df.shape[0] == 1 and player not in test_players:\n",
    "        continue\n",
    "    prior_alpha = 66\n",
    "    prior_beta = 16\n",
    "    posterior_alpha = 0\n",
    "    posterior_beta = 0\n",
    "    possible_games = 0\n",
    "    previous_season = 0\n",
    "    for i, season in enumerate(seasons):\n",
    "        if season < player_df.season.min():\n",
    "            continue\n",
    "        if season > player_df.season.max():\n",
    "            break\n",
    "        if season not in player_df.season.values:\n",
    "            continue\n",
    "            \n",
    "        season_df = player_df[player_df.season == season]\n",
    "        \n",
    "        if posterior_alpha == 0:\n",
    "            \n",
    "           \n",
    "            posterior_alpha = prior_alpha + season_df['gp'].values[0]\n",
    "            posterior_beta = prior_beta + season_df['possible_gp'].values[0] - season_df['gp'].values[0]\n",
    "            previous_season = season_df['season'].values[0]\n",
    "            \n",
    "            if posterior_beta <= 0:\n",
    "                posterior_beta = 1\n",
    "        else:\n",
    "            missed_gp_add = 0\n",
    "            if season_df.season.values[0] - previous_season != 10001:\n",
    "                for i in range(((season_df.season.values[0] - previous_season)//10001)-1) :\n",
    "                    if previous_season + ((i+1) * 10001) == 20122013:\n",
    "                        missed_gp_add += 48\n",
    "                    else:\n",
    "                        missed_gp_add += 82\n",
    "            #print(player, season, posterior_alpha, posterior_beta, season_df['possible_gp'].values[0], missed_gp_add)\n",
    "            if season == 20122013:\n",
    "                predicted_games = betabinom.rvs(48, posterior_alpha, posterior_beta, size=100).mean()\n",
    "            else:\n",
    "                predicted_games = betabinom.rvs(int(season_df['possible_gp'].values[0]), posterior_alpha, posterior_beta, size=100).mean()\n",
    "            predictions.append([player, season, predicted_games, season_df['gp'].values[0], posterior_alpha, posterior_beta])\n",
    "            posterior_alpha += season_df['gp'].values[0]\n",
    "            #print(posterior_beta, season_df['possible_gp'].values[0], missed_gp_add, season_df['gp'].values[0])\n",
    "            posterior_beta = posterior_beta + season_df['possible_gp'].values[0] + missed_gp_add - season_df['gp'].values[0]\n",
    "            if posterior_beta <= 0:\n",
    "                posterior_beta = 1\n",
    "            previous_season = season_df['season'].values[0]\n",
    "\n"
   ]
  }
 ],
 "metadata": {
  "kernelspec": {
   "display_name": "Python 3 (ipykernel)",
   "language": "python",
   "name": "python3"
  },
  "language_info": {
   "codemirror_mode": {
    "name": "ipython",
    "version": 3
   },
   "file_extension": ".py",
   "mimetype": "text/x-python",
   "name": "python",
   "nbconvert_exporter": "python",
   "pygments_lexer": "ipython3",
   "version": "3.8.11"
  }
 },
 "nbformat": 4,
 "nbformat_minor": 5
}
